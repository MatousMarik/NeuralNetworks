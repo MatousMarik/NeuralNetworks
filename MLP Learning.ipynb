{
 "cells": [
  {
   "cell_type": "code",
   "execution_count": 1,
   "id": "06e56058-3f77-48d4-8226-f461389760ce",
   "metadata": {},
   "outputs": [],
   "source": [
    "import numpy as np\n",
    "import matplotlib.pyplot as plt\n",
    "from sklearn.model_selection import train_test_split"
   ]
  },
  {
   "cell_type": "markdown",
   "id": "e967ac19",
   "metadata": {},
   "source": [
    "# Neural Networks Learning with Scikit-Learn\n",
    "\n",
    "`scikit-learn` is a large, well-documented and widely used library for machine learning. It contains aslo a support for neural networks. Namely two classes \n",
    "* `MLPClassifier` is a class implementing classifiers based on multi-layered neural networks, and \n",
    "* `MLPRegressor` is a class implementing regressing (i.e., approximating functions) with multilayered neural networks.\n",
    "\n",
    "## MLPRegressor \n",
    "\n",
    "is an estimator available as a part of the neural_network module of `sklearn` for performing regression tasks using a multi-layer perceptron.\n",
    "\n",
    "Let us start with a simple example in that we will train a neural network to compute an approximation of the function \n",
    "$$2 sin(3x+1)+3$$ on the interval $\\langle -3, 5 \\rangle$.\n",
    "\n",
    "### Preparing Data\n",
    "At first we will prepare a training and testing set."
   ]
  },
  {
   "cell_type": "code",
   "execution_count": null,
   "id": "bcea4935-a507-4a94-992e-db36b22e3339",
   "metadata": {},
   "outputs": [],
   "source": [
    "X = np.arange(-3, 5, 0.2).reshape(-1,1)\n",
    "y = 2 * np.sin(3 * X + 1) + 3\n",
    "print(\"X:\",X)\n",
    "print(\"y:\",y)"
   ]
  },
  {
   "cell_type": "markdown",
   "id": "399061bb-95b4-48c0-9739-84a6601a3803",
   "metadata": {},
   "source": [
    "Note that we reshape the 1D vector `np.arange(-3, 5, 0.2)` into a 2D array, where each row is an input pattern. `MLPRegressor` expects that both inputs and outputs are 2D arrays.\n",
    "\n",
    "We can split manually `X` and `y` into a training and test sets, but there is a function `train_test_split` that does this for us."
   ]
  },
  {
   "cell_type": "code",
   "execution_count": null,
   "id": "b2311ef0-a73d-4176-8cbf-6675a34032ae",
   "metadata": {},
   "outputs": [],
   "source": [
    "X_train, X_test, y_train, y_test = train_test_split(X, y, test_size=0.2, random_state=42)\n",
    "n = 4\n",
    "print(f\"The first {n} inputs:\")\n",
    "print(X_test[:n])\n",
    "print(f\"The corresponding {n} labels:\")\n",
    "print(y_test[:n])"
   ]
  },
  {
   "cell_type": "markdown",
   "id": "750655b6-40bb-4cc3-8ade-66c57f21dc68",
   "metadata": {
    "tags": []
   },
   "source": [
    "Using parameter `random_state=42` we can repeat exactly the same splitting arbitrarily.\n",
    "\n",
    "### Training `MLPRegressor`\n",
    "\n",
    "Class MLPRegressor implements a multi-layer perceptron (MLP) that trains using backpropagation with identity a the activation function in the output layer. Hence, the output neurons just output their potentials. In this way, such network can output any real value. The error function used by the network is the mean squared error.\n",
    "\n",
    "MLPRegressor also supports regression with multi-dimensional outputs -  the desired output can be a vector."
   ]
  },
  {
   "cell_type": "code",
   "execution_count": 4,
   "id": "7802045a-b8af-4c15-844c-dc5371cc9d5b",
   "metadata": {},
   "outputs": [
    {
     "name": "stderr",
     "output_type": "stream",
     "text": [
      "C:\\Users\\mraz\\.conda\\envs\\SNA\\lib\\site-packages\\sklearn\\utils\\validation.py:63: DataConversionWarning: A column-vector y was passed when a 1d array was expected. Please change the shape of y to (n_samples, ), for example using ravel().\n",
      "  return f(*args, **kwargs)\n",
      "C:\\Users\\mraz\\.conda\\envs\\SNA\\lib\\site-packages\\sklearn\\neural_network\\_multilayer_perceptron.py:614: ConvergenceWarning: Stochastic Optimizer: Maximum iterations (200) reached and the optimization hasn't converged yet.\n",
      "  warnings.warn(\n"
     ]
    },
    {
     "data": {
      "text/plain": [
       "MLPRegressor(random_state=123)"
      ]
     },
     "execution_count": 4,
     "metadata": {},
     "output_type": "execute_result"
    }
   ],
   "source": [
    "from sklearn.neural_network import MLPRegressor\n",
    "\n",
    "mlp_regressor  = MLPRegressor(random_state=123)\n",
    "mlp_regressor.fit(X_train, y_train)"
   ]
  },
  {
   "cell_type": "markdown",
   "id": "aa209c48-b3ea-4fa7-8114-72e8f8351519",
   "metadata": {},
   "source": [
    "Now we can use the learned network to compute the approximation for the test samples."
   ]
  },
  {
   "cell_type": "code",
   "execution_count": 5,
   "id": "fc89b130-4f7b-4e27-8ea5-81776e451a4e",
   "metadata": {},
   "outputs": [
    {
     "name": "stdout",
     "output_type": "stream",
     "text": [
      "[1.75257859 1.67232722 1.69045494 2.32241619 2.81909897 1.83633411\n",
      " 3.70868981 2.44840648]\n",
      "[[2.4889178 ]\n",
      " [4.99914721]\n",
      " [4.68294197]\n",
      " [4.93583934]\n",
      " [4.26253328]\n",
      " [1.56528782]\n",
      " [4.99605331]\n",
      " [4.88146111]]\n",
      "Test R^2 Score : -2.017\n",
      "Training R^2 Score : -0.170\n"
     ]
    }
   ],
   "source": [
    "y_preds = mlp_regressor.predict(X_test)\n",
    "\n",
    "print(y_preds[:10])\n",
    "print(y_test[:10])\n",
    "\n",
    "print('Test R^2 Score : %.3f'%mlp_regressor.score(X_test, y_test)) ## Score method also evaluates accuracy for classification models.\n",
    "print('Training R^2 Score : %.3f'%mlp_regressor.score(X_train, y_train))"
   ]
  },
  {
   "cell_type": "markdown",
   "id": "4ebbedb4-2139-4a69-99a1-f64c31628ff8",
   "metadata": {},
   "source": [
    "We can see that the network did not learn the function. In the documentation for `MLPRegressor` we can see that this regressor has many parameter with some default values. \n",
    "\n",
    "Let us try 500 iteration instead of the default 200, less hidden neurons - 10 instead of 100 in one hidden layer, sigmoid activation function (`'logistic'`) instead of the default `'relu'` and the learning algorithm `'lgfgs'` that is a variant of Newton's method with a limited memory."
   ]
  },
  {
   "cell_type": "code",
   "execution_count": 82,
   "id": "cdec49c7-b385-49dd-b8d1-2b73d53b20b0",
   "metadata": {},
   "outputs": [
    {
     "data": {
      "text/plain": [
       "MLPRegressor(activation='logistic', hidden_layer_sizes=[10], max_iter=500,\n",
       "             random_state=123, solver='lbfgs')"
      ]
     },
     "execution_count": 82,
     "metadata": {},
     "output_type": "execute_result"
    }
   ],
   "source": [
    "mlp_regressor  = MLPRegressor(random_state=123, \n",
    "                              hidden_layer_sizes=[10], \n",
    "                              max_iter=500, \n",
    "                              activation='logistic',\n",
    "                              solver='lbfgs')\n",
    "mlp_regressor.fit(X_train, y_train.ravel())"
   ]
  },
  {
   "cell_type": "code",
   "execution_count": 83,
   "id": "86f6103d-4075-4e62-83d6-94da5eca9b0d",
   "metadata": {},
   "outputs": [
    {
     "name": "stdout",
     "output_type": "stream",
     "text": [
      "Test R^2 Score : 0.850\n",
      "Training R^2 Score : 0.989\n"
     ]
    }
   ],
   "source": [
    "print('Test R^2 Score : %.3f'%mlp_regressor.score(X_test, y_test)) ## Score method also evaluates accuracy for classification models.\n",
    "print('Training R^2 Score : %.3f'%mlp_regressor.score(X_train, y_train))"
   ]
  },
  {
   "cell_type": "code",
   "execution_count": 74,
   "id": "b171a4a4-f134-463a-bc81-ecd7530b4625",
   "metadata": {},
   "outputs": [
    {
     "data": {
      "text/plain": [
       "[<matplotlib.lines.Line2D at 0x220bc477c40>]"
      ]
     },
     "execution_count": 74,
     "metadata": {},
     "output_type": "execute_result"
    },
    {
     "data": {
      "image/png": "[encoded data removed]",
      "text/plain": [
       "<Figure size 432x288 with 1 Axes>"
      ]
     },
     "metadata": {
      "needs_background": "light"
     },
     "output_type": "display_data"
    }
   ],
   "source": [
    "XX = np.arange(-7, 10, 0.05).reshape(-1, 1)\n",
    "plt.plot(XX, 2 * np.sin(3 * XX + 1) + 3, 'r')\n",
    "plt.plot(X_train,y_train,'ob')\n",
    "plt.plot(X_test, y_test,'+b')\n",
    "plt.plot(XX, mlp_regressor.predict(XX),'g')\n"
   ]
  },
  {
   "cell_type": "markdown",
   "id": "806239af-7a47-4035-9e69-1f6ab0ccf7e0",
   "metadata": {},
   "source": [
    "$R^2$ score is called the *coefficient of determination* of the prediction. It is defined as $(1-\\frac{u}{v})$, where $u$ is the residual sum of squares `((y_true - y_pred) ** 2).sum()` and $v$ is the total sum of squares `((y_true - y_true.mean()) ** 2).sum()`. The best possible score is 1.0 and it can be negative (because the model can be arbitrarily worse). What is the range for $R^2$?"
   ]
  },
  {
   "cell_type": "code",
   "execution_count": 127,
   "id": "11f2d22c-347f-425d-8bf9-2ce9a9965182",
   "metadata": {},
   "outputs": [
    {
     "name": "stdout",
     "output_type": "stream",
     "text": [
      "Train set MSE: 1.770997252629857\n",
      "Test set MSE: 3.2829307025348506\n"
     ]
    },
    {
     "data": {
      "text/plain": [
       "array([[ 0.14860237,  0.11104248, -0.58366439,  0.16846209,  0.14241971,\n",
       "         0.01003868,  0.19115032,  0.14790237,  0.0409317 ,  0.10875516]])"
      ]
     },
     "execution_count": 127,
     "metadata": {},
     "output_type": "execute_result"
    }
   ],
   "source": [
    "from sklearn.metrics import mean_squared_error\n",
    "\n",
    "print(\"Train set MSE:\", mean_squared_error(y_train, mlp_regressor.predict(X_train)))\n",
    "print(\"Test set MSE:\", mean_squared_error(y_test, mlp_regressor.predict(X_test)))\n",
    "\n",
    "mlp_regressor.coefs_[0]"
   ]
  },
  {
   "cell_type": "markdown",
   "id": "3bafef76-babb-420a-bc0b-8295dc04e8a8",
   "metadata": {},
   "source": [
    "Implement the following function that plots the evolution of MSE.\n",
    "\n",
    "**Note:** You can switch-off warnings using\n",
    "\n",
    "    import warnings\n",
    "    warnings.filterwarnings(\"ignore\")\n"
   ]
  },
  {
   "cell_type": "code",
   "execution_count": 180,
   "id": "ba35d840-e250-4750-b601-292187e10baf",
   "metadata": {},
   "outputs": [],
   "source": [
    "def monitor_MSE(regressor, X_train, X_test, y_train, y_test, iter_step=50):\n",
    "    # Fit the regressor regressor using traing set X_train with\n",
    "    # the desired outputs y_train, after each iter_step iterations compute\n",
    "    # MSE for the training and test sets.\n",
    "    # At the end plot the evolution of MSE on both train and test sets.\n",
    "    import warnings\n",
    "    warnings.filterwarnings(\"ignore\")\n",
    "    \n",
    "    max_iter = regressor.max_iter\n",
    "    regressor.set_params(max_iter=iter_step, warm_start=True)\n",
    "...\n",
    "    \n",
    "    plt.yscale('log')\n",
    "    plt.plot(range(0,max_iter,iter_step), MSE_train, 'b')\n",
    "    plt.plot(range(0,max_iter,iter_step), MSE_test, 'r')\n",
    "    return regressor"
   ]
  },
  {
   "cell_type": "code",
   "execution_count": null,
   "id": "c03102a0-51ca-479c-b284-f97dffae3ed3",
   "metadata": {},
   "outputs": [],
   "source": [
    "mlp_regressor  = MLPRegressor(random_state=123, \n",
    "                              hidden_layer_sizes=[10], \n",
    "                              max_iter=50, \n",
    "                              activation='logistic',\n",
    "                              solver='lbfgs',\n",
    "                              early_stopping=True)\n",
    "mlp_regressor = mlp_regressor.fit(X_train, y_train.ravel())\n",
    "\n",
    "print('Test R^2 Score : %.3f'%mlp_regressor.score(X_test, y_test)) ## Score method also evaluates accuracy for classification models.\n",
    "print('Training R^2 Score : %.3f'%mlp_regressor.score(X_train, y_train))\n",
    "\n",
    "print(\"Train set MSE:\", mean_squared_error(y_train.ravel(), mlp_regressor.predict(X_train)))\n",
    "print(\"Test set MSE:\", mean_squared_error(y_test.ravel(), mlp_regressor.predict(X_test)))\n",
    "\n",
    "print(mlp_regressor.coefs_[0])\n"
   ]
  },
  {
   "cell_type": "code",
   "execution_count": null,
   "id": "e1b325a6-5b5a-4476-9a8c-dc07faa42a3f",
   "metadata": {},
   "outputs": [],
   "source": [
    "mlp_regressor  = MLPRegressor(random_state=123, \n",
    "                              hidden_layer_sizes=[10], \n",
    "                              max_iter=50, \n",
    "                              activation='logistic',\n",
    "                              solver='lbfgs',\n",
    "                              warm_start=True)\n",
    "mlp_regressor = monitor_MSE(mlp_regressor, X_train, X_test, y_train.ravel(), y_test.ravel(), iter_step=10)\n",
    "\n",
    "print('Test R^2 Score : %.3f'%mlp_regressor.score(X_test, y_test)) ## Score method also evaluates accuracy for classification models.\n",
    "print('Training R^2 Score : %.3f'%mlp_regressor.score(X_train, y_train))\n",
    "\n",
    "print(\"Train set MSE:\", mean_squared_error(y_train, mlp_regressor.predict(X_train)))\n",
    "print(\"Test set MSE:\", mean_squared_error(y_test, mlp_regressor.predict(X_test)))\n",
    "\n",
    "mlp_regressor.coefs_[0]"
   ]
  },
  {
   "cell_type": "markdown",
   "id": "b23089b3-c5b8-4e5a-a33b-bc995542a77a",
   "metadata": {},
   "source": [
    "Implement the following function that performs so called regression analysis of the trained regressor.  "
   ]
  },
  {
   "cell_type": "code",
   "execution_count": 191,
   "id": "0ac44991-bfc4-46f0-87f4-711915e077dc",
   "metadata": {},
   "outputs": [],
   "source": [
    "def regression_analysis(regressor, X_train, X_test, y_train, y_test):\n",
    "    # plot two plots: regressor predictions (y-axis) for the train \n",
    "    # set X_train against y_train (x-axis)\n",
    "    # and regressor predictions (y-axis) for the test \n",
    "    # set X_test against y_test (x-axis)\n",
    "    pass\n"
   ]
  },
  {
   "cell_type": "code",
   "execution_count": 192,
   "id": "6b10336a-c800-4d5d-90bb-89ac3bb760d3",
   "metadata": {},
   "outputs": [
    {
     "data": {
      "image/png": "[encoded data removed]",
      "text/plain": [
       "<Figure size 864x360 with 2 Axes>"
      ]
     },
     "metadata": {
      "needs_background": "light"
     },
     "output_type": "display_data"
    }
   ],
   "source": [
    "regression_analysis(mlp_regressor, X_train, X_test, y_train.ravel(), y_test.ravel())"
   ]
  },
  {
   "cell_type": "markdown",
   "id": "3964ff27-395f-4549-94aa-952c6664a092",
   "metadata": {},
   "source": [
    "## The Main Attributes of `MLPClassifier`\n",
    "\n",
    "* `loss_` is the loss after training,\n",
    "* `n_layers_` is the number of layers of the network,\n",
    "* `coefs_` is a list of arrays of length `n_layers - 1`; $i$-th array is the weight matrix of layer $i$,\n",
    "* `intercepts_` is a list of arrays of length `n_layers - 1`; $i$-th array is the bias vector associated with layer $i$, \n",
    "* `n_iter_` is the number of iterations the solver run,\n",
    "* `out_activation_` is the name of the output layer activation function."
   ]
  },
  {
   "cell_type": "code",
   "execution_count": 193,
   "id": "149db442-23d0-4cd0-8e1f-2a7f3bceacf1",
   "metadata": {},
   "outputs": [
    {
     "name": "stdout",
     "output_type": "stream",
     "text": [
      "Loss :  0.004895738291749025\n"
     ]
    }
   ],
   "source": [
    "print(\"Loss : \", mlp_regressor.loss_)"
   ]
  },
  {
   "cell_type": "code",
   "execution_count": 198,
   "id": "e977ed07-a759-4e77-9adf-423dd88f8d05",
   "metadata": {},
   "outputs": [
    {
     "name": "stdout",
     "output_type": "stream",
     "text": [
      "Number of Coefs :  2\n"
     ]
    },
    {
     "data": {
      "text/plain": [
       "[(1, 10), (10, 1)]"
      ]
     },
     "execution_count": 198,
     "metadata": {},
     "output_type": "execute_result"
    }
   ],
   "source": [
    "print(\"Number of Coefs : \", len(mlp_regressor.coefs_))\n",
    "\n",
    "[weights.shape for weights in mlp_regressor.coefs_]"
   ]
  },
  {
   "cell_type": "code",
   "execution_count": 199,
   "id": "02b6436b-a121-4ccb-9121-3529f5c92618",
   "metadata": {},
   "outputs": [
    {
     "name": "stdout",
     "output_type": "stream",
     "text": [
      "Number of Intercepts :  2\n"
     ]
    },
    {
     "data": {
      "text/plain": [
       "[(10,), (1,)]"
      ]
     },
     "execution_count": 199,
     "metadata": {},
     "output_type": "execute_result"
    }
   ],
   "source": [
    "print(\"Number of Intercepts : \", len(mlp_regressor.intercepts_))\n",
    "\n",
    "[intercept.shape for intercept in mlp_regressor.intercepts_]"
   ]
  },
  {
   "cell_type": "code",
   "execution_count": 207,
   "id": "53d42337-999f-42d4-b966-915a9519f8da",
   "metadata": {},
   "outputs": [
    {
     "name": "stdout",
     "output_type": "stream",
     "text": [
      "Number of Iterations for Which Estimator Ran :  1968\n"
     ]
    }
   ],
   "source": [
    "print(\"Number of Iterations for Which Estimator Ran : \", mlp_regressor.n_iter_)"
   ]
  },
  {
   "cell_type": "code",
   "execution_count": 201,
   "id": "8bc990b4-95cc-40c9-80dd-c8af85a39cf6",
   "metadata": {},
   "outputs": [
    {
     "name": "stdout",
     "output_type": "stream",
     "text": [
      "Name of Output Layer Activation Function :  identity\n"
     ]
    }
   ],
   "source": [
    "print(\"Name of Output Layer Activation Function : \", mlp_regressor.out_activation_)"
   ]
  },
  {
   "cell_type": "markdown",
   "id": "5c756ec9-e762-4fa6-bde3-26357414ce30",
   "metadata": {},
   "source": [
    "Improve the results of the regressor!"
   ]
  },
  {
   "cell_type": "code",
   "execution_count": null,
   "id": "cf1a870c-c701-42c3-94db-36254a367019",
   "metadata": {},
   "outputs": [],
   "source": []
  }
 ],
 "metadata": {
  "kernelspec": {
   "display_name": "Python 3 (ipykernel)",
   "language": "python",
   "name": "python3"
  },
  "language_info": {
   "codemirror_mode": {
    "name": "ipython",
    "version": 3
   },
   "file_extension": ".py",
   "mimetype": "text/x-python",
   "name": "python",
   "nbconvert_exporter": "python",
   "pygments_lexer": "ipython3",
   "version": "3.8.5"
  }
 },
 "nbformat": 4,
 "nbformat_minor": 5
}
