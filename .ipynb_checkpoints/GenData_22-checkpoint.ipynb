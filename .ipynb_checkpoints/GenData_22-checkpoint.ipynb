{
 "cells": [
  {
   "cell_type": "code",
   "execution_count": 1,
   "metadata": {},
   "outputs": [],
   "source": [
    "import numpy as np\n",
    "import matplotlib.pyplot as plt"
   ]
  },
  {
   "cell_type": "markdown",
   "metadata": {},
   "source": [
    "# Generating Test Data\n",
    "\n",
    "\n",
    "When we implement or test various methods for machine learning (e.g. neural networks) we need the ability to generate data with prescribed properties and also to generate \"random\" data or randomly select data from a given set of data. For generating random data, we need to know probability distribution of the data.\n",
    "\n",
    "\n",
    "For a random variable $V$ with the *uniform probability distribution* on an interval $\\langle A,B\\rangle$ it holds:\n",
    "\n",
    "* the density function of the distribution is $h(x) = \\begin{cases}\n",
    "             \\frac{1}{B-A} & \\text{for } x \\in \\langle A,B \\rangle\\\\\n",
    "             0              & \\text{otherwise}\n",
    "         \\end{cases}$\n",
    "\n",
    "* a random number from the distribution can be generated using standard Python library"
   ]
  },
  {
   "cell_type": "code",
   "execution_count": 2,
   "metadata": {},
   "outputs": [
    {
     "data": {
      "text/plain": [
       "19.36730617916932"
      ]
     },
     "execution_count": 2,
     "metadata": {},
     "output_type": "execute_result"
    }
   ],
   "source": [
    "import random\n",
    "\n",
    "A, B = 10, 20\n",
    "random.uniform(A,B)"
   ]
  },
  {
   "cell_type": "markdown",
   "metadata": {},
   "source": [
    "* An $m \\times n$ matrix `s` represented as `numpy` array of numbers from the uniform distribution on the interval$\\langle A,B \\rangle$ can be generated as"
   ]
  },
  {
   "cell_type": "code",
   "execution_count": 3,
   "metadata": {},
   "outputs": [
    {
     "name": "stdout",
     "output_type": "stream",
     "text": [
      "[[18.820290733367216, 15.464923130984563, 11.218441460967739, 15.015015574898776], [15.819106972060998, 16.13689742666585, 16.21292595381221, 18.212639082377798], [11.506735142250243, 12.242183378400412, 15.994426722391417, 12.159757586050954]]\n",
      "[[11.50845604 16.10921495 14.97347957 19.95166061]\n",
      " [10.68278248 13.44911826 12.41086753 17.70094907]\n",
      " [19.3206286  11.01854977 18.21587025 13.52352416]]\n"
     ]
    }
   ],
   "source": [
    "A = 10\n",
    "B = 20\n",
    "\n",
    "m = 3\n",
    "n = 4\n",
    "\n",
    "# using just the Python standard library random\n",
    "# YOUR CODE GOES HERE\n",
    "s = [[random.uniform(A, B) for _ in range(n)] for _ in range(m)]\n",
    "print(s)\n",
    "\n",
    "# using numpy\n",
    "# YOUR CODE GOES HERE \n",
    "s2 = np.random.uniform(A, B, (m, n))\n",
    "# s2 = (B-A) * np.random.random((m,n)) + A\n",
    "print(s2)"
   ]
  },
  {
   "cell_type": "markdown",
   "metadata": {},
   "source": [
    "For a random variable $V$ with the *normal (or Gauss) distribution* with mean $\\mu$ and variance $\\sigma^2$ it holds:\n",
    "\n",
    "* the density function is the following $p(x) = \\frac{ 1}{ \\sqrt{2 \\pi \\sigma^2}} e^{\n",
    "  -\\frac{(x-\\mu)^2}{2\\sigma^2}}$\n",
    "\n",
    "* For the random variable $V$ it holds that with the probability 95\\% its value is from the interval\n",
    "  $\\langle\\mu-1.96\\sigma,\\mu+1.96\\sigma\\rangle$.\n",
    "\n",
    "\n",
    "The function `random.gauss(mu, sigma)` generates a random number from the normal distribution with mean `mu` and variance `sigma`. Such distribution is denoted as ${\\cal N}(\\texttt{mu}, \\texttt{sigma})$."
   ]
  },
  {
   "cell_type": "code",
   "execution_count": 4,
   "metadata": {},
   "outputs": [
    {
     "data": {
      "text/plain": [
       "7.614759927782119"
      ]
     },
     "execution_count": 4,
     "metadata": {},
     "output_type": "execute_result"
    }
   ],
   "source": [
    "random.gauss(5,1)"
   ]
  },
  {
   "cell_type": "markdown",
   "metadata": {},
   "source": [
    " A numpy array `s` of size $m \\times n$ with numbers from the normal distribution with mean `mu` and variance `sigma` can be generated as follows:"
   ]
  },
  {
   "cell_type": "code",
   "execution_count": 5,
   "metadata": {},
   "outputs": [
    {
     "name": "stdout",
     "output_type": "stream",
     "text": [
      "[2.27413933 2.13899744 2.22080373 2.38656644 1.63111145 1.81024669\n",
      " 2.61064054 1.72749431 1.86914856 2.17195295]\n"
     ]
    }
   ],
   "source": [
    "mu, sigma = 2, 0.3 # mean and standard deviation\n",
    "\n",
    "s = np.random.normal(mu, sigma, 1000)\n",
    "print(s[:10])"
   ]
  },
  {
   "cell_type": "markdown",
   "metadata": {},
   "source": [
    "Verify the mean and the variance:"
   ]
  },
  {
   "cell_type": "code",
   "execution_count": 6,
   "metadata": {},
   "outputs": [
    {
     "data": {
      "text/plain": [
       "0.013159259565869386"
      ]
     },
     "execution_count": 6,
     "metadata": {},
     "output_type": "execute_result"
    }
   ],
   "source": [
    "# is the mean eaqual to mu?\n",
    "abs(mu - np.mean(s))"
   ]
  },
  {
   "cell_type": "code",
   "execution_count": 7,
   "metadata": {},
   "outputs": [
    {
     "name": "stdout",
     "output_type": "stream",
     "text": [
      "0.000988819088411863\n"
     ]
    },
    {
     "data": {
      "text/plain": [
       "0.0011383620739651712"
      ]
     },
     "execution_count": 7,
     "metadata": {},
     "output_type": "execute_result"
    }
   ],
   "source": [
    "# is the standard deviation sigma?\n",
    "print(abs(sigma - np.std(s, ddof=1)))\n",
    "abs(sigma - np.std(s, ddof=0))"
   ]
  },
  {
   "cell_type": "markdown",
   "metadata": {},
   "source": [
    "Why in the above code `ddof=1` is used?"
   ]
  },
  {
   "cell_type": "markdown",
   "metadata": {},
   "source": [
    "Display the histogram of the samples, along with the probability density function:"
   ]
  },
  {
   "cell_type": "code",
   "execution_count": 8,
   "metadata": {},
   "outputs": [
    {
     "data": {
      "text/plain": [
       "[<matplotlib.lines.Line2D at 0x2ccfa448f40>]"
      ]
     },
     "execution_count": 8,
     "metadata": {},
     "output_type": "execute_result"
    },
    {
     "data": {
      "image/png": "[encoded data removed]",
      "text/plain": [
       "<Figure size 640x480 with 1 Axes>"
      ]
     },
     "metadata": {},
     "output_type": "display_data"
    }
   ],
   "source": [
    "count, bins, ignored = plt.hist(s, 30, density=True)\n",
    "plt.plot(bins, 1/(sigma * np.sqrt(2 * np.pi)) *\n",
    "               np.exp( - (bins - mu)**2 / (2 * sigma**2) ),\n",
    "         linewidth=2, color='r')"
   ]
  },
  {
   "cell_type": "markdown",
   "metadata": {},
   "source": [
    "Why `density=True` is used in the above call to `plt.hist`?"
   ]
  },
  {
   "cell_type": "markdown",
   "metadata": {},
   "source": [
    "Generate a two-dimensional array of samples from ${\\cal N}(3, 2.5)$:"
   ]
  },
  {
   "cell_type": "code",
   "execution_count": 9,
   "metadata": {},
   "outputs": [
    {
     "data": {
      "text/plain": [
       "array([[7.31488046, 1.79625161, 2.91084741, 4.36668249],\n",
       "       [0.79980363, 0.0841039 , 1.36457241, 1.45959249]])"
      ]
     },
     "execution_count": 9,
     "metadata": {},
     "output_type": "execute_result"
    }
   ],
   "source": [
    "np.random.normal(3, 2.5, size=(2, 4))"
   ]
  },
  {
   "cell_type": "markdown",
   "metadata": {},
   "source": [
    "## Generating Vector with Two Clusters\n",
    "\n",
    "Implement a function `randv2n(n1,mu1,sigma1,n2,mu2,sigma2)` that\n",
    "generates one row vector containing `n1` numbers\n",
    "from the **normal distribution** with mean `mu1` and standard deviation\n",
    "`sigma1` and another `n2` numbers from the normal distribution with mean `mu2` and variance `sigma2`.\n",
    "\n",
    "E.g., `randv2n(3,-10,1,4,10,1)` can return numbers (rounded)\n",
    "\n",
    "`8.6684   9.7688  9.4214  -8.5999   10.9027   10.9225  -11.9626`\n",
    "\n",
    "Note that in the returned vector the numbers from the two clusters are randomly mixed. This can be achieved using the function `random.shuffle(x)` for an iterable `x` or `np.random.shuffle` for numpy arrays. "
   ]
  },
  {
   "cell_type": "code",
   "execution_count": 10,
   "metadata": {},
   "outputs": [],
   "source": [
    "def randv2n(n1,mu1,sigma1,n2,mu2,sigma2):\n",
    "    # YOUR CODE GOES HERE instead of pass\n",
    "    a = np.append(np.random.normal(mu1, sigma1, n1), np.random.normal(mu2, sigma2, n2))\n",
    "    np.random.shuffle(a)\n",
    "    return a"
   ]
  },
  {
   "cell_type": "markdown",
   "metadata": {},
   "source": [
    "Demonstrate your implementation by constructing histogram of the returned vector. How can we set-up the number of bins in the histogram?"
   ]
  },
  {
   "cell_type": "code",
   "execution_count": 11,
   "metadata": {},
   "outputs": [
    {
     "data": {
      "image/png": "[encoded data removed]",
      "text/plain": [
       "<Figure size 640x480 with 1 Axes>"
      ]
     },
     "metadata": {},
     "output_type": "display_data"
    }
   ],
   "source": [
    "# YOUR CODE GOES HERE\n",
    "X = randv2n(200, -3, 2, 200, 3, 1)\n",
    "_ = plt.hist(X, 100)"
   ]
  },
  {
   "cell_type": "markdown",
   "metadata": {},
   "source": [
    "## Generating Clusters in 2D\n",
    "\n",
    "Implement a function `randn2d(n,mu1,sigma1,mu2,sigma2)`, with parameters `n`, `mu1`, `sigma1`, `mu2`, `sigma2` that are vectors of the same length $n$. The function should generate a matrix of size $\\left(\\sum_{i=1}^{n} \\texttt{n[i]}\\right) \\times 2$ containing random points in 2D. Each row of the resulting matrix is interpreted as the coordinates of a point on a plane. In the resulting matrix, For each `i`$=1,\\dots,n$, `n[i]` is the number of points in the `i`-th cluster generated randomly from the normal distribution with mean `mu1[i]` and standard deviation `sigma1[i]` in the first coordinate, and with mean `mu2[i]` and standard deviation `sigma2[i]` in the second coordinate."
   ]
  },
  {
   "cell_type": "code",
   "execution_count": 68,
   "metadata": {},
   "outputs": [],
   "source": [
    "# YOUR CODE GOES HERE\n",
    "def randn2d(n, mu1, sigma1, mu2, sigma2, *, draw=None):\n",
    "    # check\n",
    "    len_n = len(n)\n",
    "    assert len_n > 0 and all(len(a) == len_n for a in (mu1, sigma1, mu2, sigma2))\n",
    "    \n",
    "    result = np.zeros((sum(n), 2))\n",
    "    i = 0\n",
    "    for (n_, m1, s1, m2, s2) in zip(n, mu1, sigma1, mu2, sigma2):\n",
    "        result[i:i+n_, 0] = np.random.normal(m1, s1, n_)\n",
    "        result[i:i+n_, 1] = np.random.normal(m2, s2, n_)\n",
    "        \n",
    "        if draw != None:\n",
    "            plt.plot(result[i:i+n_, 0], result[i:i+n_, 1], '.', alpha=0.5)\n",
    "        i += n_\n",
    "        \n",
    "    np.random.shuffle(result)\n",
    "    return result"
   ]
  },
  {
   "cell_type": "markdown",
   "metadata": {},
   "source": [
    "Extend the function by adding an optional additional parameter `draw=None`. If the function is called with `draw != None`, then  before returning the resulting matrix, the function plots a graph with graphically distinguished clusters, e.g., using the function `plt.scatter()`."
   ]
  },
  {
   "cell_type": "code",
   "execution_count": 69,
   "metadata": {},
   "outputs": [
    {
     "data": {
      "image/png": "[encoded data removed]",
      "text/plain": [
       "<Figure size 640x480 with 1 Axes>"
      ]
     },
     "metadata": {},
     "output_type": "display_data"
    }
   ],
   "source": [
    "X = randn2d([5] * 3, [1, 30, 50], [1, 2, 4], [4, 70, 20], [1, 3, 2], draw=True)"
   ]
  },
  {
   "cell_type": "markdown",
   "metadata": {},
   "source": [
    "## Generating a Sample from Data\n",
    "\n",
    "Write a function `selectk(x,k)`, which randomly selects `k` rows from the input matrix `x`."
   ]
  },
  {
   "cell_type": "code",
   "execution_count": 26,
   "metadata": {},
   "outputs": [],
   "source": [
    "def selectk(x, k):\n",
    "    assert len(x) >= k\n",
    "    return x[np.random.choice(x.shape[0], k, replace=False)]"
   ]
  },
  {
   "cell_type": "code",
   "execution_count": 15,
   "metadata": {},
   "outputs": [
    {
     "name": "stdout",
     "output_type": "stream",
     "text": [
      "[[ 8.80144616 -0.16456945  2.44390975]\n",
      " [ 5.39724637  5.89978272  2.51780267]\n",
      " [ 5.21540034  2.88230388  2.06541246]\n",
      " [ 0.01785389  5.2702774  -2.55954835]\n",
      " [ 7.4270054   4.84642583  3.93591112]\n",
      " [ 6.50318982  0.38801834  3.06494656]\n",
      " [ 4.81459543  2.88340884  0.58227939]\n",
      " [ 2.48664414  5.0670253   6.14580476]\n",
      " [ 5.89960217  3.12392517 -1.31721745]\n",
      " [ 2.80260803  2.40677876  2.21287812]]\n"
     ]
    }
   ],
   "source": [
    "x = np.random.normal(3, 2.5, size=(10,3))\n",
    "\n",
    "print(x)"
   ]
  },
  {
   "cell_type": "code",
   "execution_count": 16,
   "metadata": {},
   "outputs": [
    {
     "data": {
      "text/plain": [
       "array([[ 0.01785389,  5.2702774 , -2.55954835],\n",
       "       [ 8.80144616, -0.16456945,  2.44390975],\n",
       "       [ 5.39724637,  5.89978272,  2.51780267],\n",
       "       [ 6.50318982,  0.38801834,  3.06494656]])"
      ]
     },
     "execution_count": 16,
     "metadata": {},
     "output_type": "execute_result"
    }
   ],
   "source": [
    "selectk(x,4)"
   ]
  },
  {
   "cell_type": "markdown",
   "metadata": {},
   "source": [
    "Demonstrate your implementation on a randomly generated matrix with two columns. Plot the original and selected column vectors as point on a plane. Distinguish not selected and selected data with different colors or marks."
   ]
  },
  {
   "cell_type": "code",
   "execution_count": 17,
   "metadata": {},
   "outputs": [
    {
     "data": {
      "text/plain": [
       "[<matplotlib.lines.Line2D at 0x2ccfa73f460>]"
      ]
     },
     "execution_count": 17,
     "metadata": {},
     "output_type": "execute_result"
    },
    {
     "data": {
      "image/png": "[encoded data removed]",
      "text/plain": [
       "<Figure size 640x480 with 1 Axes>"
      ]
     },
     "metadata": {},
     "output_type": "display_data"
    }
   ],
   "source": [
    "# YOUR CODE GOES HERE \n",
    "M = x[1:]\n",
    "\n",
    "S = selectk(M, 4)\n",
    "plt.plot(M[:, 0], M[:, 1], '.')\n",
    "plt.plot(S[:, 0], S[:, 1], '.')"
   ]
  },
  {
   "cell_type": "markdown",
   "metadata": {},
   "source": [
    "The module `scikit-learn` contains suitable function `train_test_split` for randomly splitting data into training and test sets. How can we ensure that the splitting is done in the same way when we repeat the splitting?"
   ]
  },
  {
   "cell_type": "code",
   "execution_count": 18,
   "metadata": {},
   "outputs": [
    {
     "name": "stdout",
     "output_type": "stream",
     "text": [
      "train:\n",
      " [[ 2.80260803  2.40677876  2.21287812]\n",
      " [ 5.89960217  3.12392517 -1.31721745]\n",
      " [ 2.48664414  5.0670253   6.14580476]\n",
      " [ 4.81459543  2.88340884  0.58227939]\n",
      " [ 5.21540034  2.88230388  2.06541246]\n",
      " [ 8.80144616 -0.16456945  2.44390975]\n",
      " [ 7.4270054   4.84642583  3.93591112]]\n",
      "test:\n",
      " [[ 6.50318982  0.38801834  3.06494656]\n",
      " [ 0.01785389  5.2702774  -2.55954835]\n",
      " [ 5.39724637  5.89978272  2.51780267]]\n"
     ]
    }
   ],
   "source": [
    "from sklearn.model_selection import train_test_split\n",
    "\n",
    "train, test = train_test_split(x)\n",
    "print(\"train:\\n\", train)\n",
    "print(\"test:\\n\", test)"
   ]
  },
  {
   "cell_type": "code",
   "execution_count": 19,
   "metadata": {},
   "outputs": [
    {
     "name": "stdout",
     "output_type": "stream",
     "text": [
      "train:\n",
      " [[ 8.80144616 -0.16456945  2.44390975]\n",
      " [ 2.48664414  5.0670253   6.14580476]\n",
      " [ 5.21540034  2.88230388  2.06541246]\n",
      " [ 2.80260803  2.40677876  2.21287812]\n",
      " [ 7.4270054   4.84642583  3.93591112]\n",
      " [ 0.01785389  5.2702774  -2.55954835]\n",
      " [ 4.81459543  2.88340884  0.58227939]]\n",
      "test:\n",
      " [[ 5.89960217  3.12392517 -1.31721745]\n",
      " [ 5.39724637  5.89978272  2.51780267]\n",
      " [ 6.50318982  0.38801834  3.06494656]]\n"
     ]
    }
   ],
   "source": [
    "seed = 42\n",
    "\n",
    "train, test = train_test_split(x, random_state=seed)\n",
    "print(\"train:\\n\", train)\n",
    "print(\"test:\\n\", test)"
   ]
  }
 ],
 "metadata": {
  "kernelspec": {
   "display_name": "Python 3 (ipykernel)",
   "language": "python",
   "name": "python3"
  },
  "language_info": {
   "codemirror_mode": {
    "name": "ipython",
    "version": 3
   },
   "file_extension": ".py",
   "mimetype": "text/x-python",
   "name": "python",
   "nbconvert_exporter": "python",
   "pygments_lexer": "ipython3",
   "version": "3.9.5"
  }
 },
 "nbformat": 4,
 "nbformat_minor": 4
}
