{
 "cells": [
  {
   "cell_type": "code",
   "execution_count": 1,
   "id": "06e56058-3f77-48d4-8226-f461389760ce",
   "metadata": {},
   "outputs": [],
   "source": [
    "import numpy as np\n",
    "import matplotlib.pyplot as plt\n",
    "from sklearn.model_selection import train_test_split"
   ]
  },
  {
   "cell_type": "markdown",
   "id": "e967ac19",
   "metadata": {},
   "source": [
    "# Neural Networks Learning with Scikit-Learn\n",
    "\n",
    "`scikit-learn` is a large, well-documented and widely used library for machine learning. It contains aslo a support for neural networks. Namely two classes \n",
    "* `MLPClassifier` is a class implementing classifiers based on multi-layered neural networks, and \n",
    "* `MLPRegressor` is a class implementing regressing (i.e., approximating functions) with multilayered neural networks.\n",
    "\n",
    "## MLPRegressor \n",
    "\n",
    "is an estimator available as a part of the neural_network module of `sklearn` for performing regression tasks using a multi-layer perceptron.\n",
    "\n",
    "Let us start with a simple example in that we will train a neural network to compute an approximation of the function \n",
    "$$2 sin(3x+1)+3$$ on the interval $\\langle -3, 5 \\rangle$.\n",
    "\n",
    "### Preparing Data\n",
    "At first we will prepare a training and testing set."
   ]
  },
  {
   "cell_type": "code",
   "execution_count": null,
   "id": "bcea4935-a507-4a94-992e-db36b22e3339",
   "metadata": {},
   "outputs": [],
   "source": [
    "X = np.arange(-3, 5, 0.2).reshape(-1,1)\n",
    "y = 2 * np.sin(3 * X + 1) + 3\n",
    "print(\"X:\",X)\n",
    "print(\"y:\",y)"
   ]
  },
  {
   "cell_type": "markdown",
   "id": "399061bb-95b4-48c0-9739-84a6601a3803",
   "metadata": {},
   "source": [
    "Note that we reshape the 1D vector `np.arange(-3, 5, 0.2)` into a 2D array, where each row is an input pattern. `MLPRegressor` expects that both inputs and outputs are 2D arrays.\n",
    "\n",
    "We can split manually `X` and `y` into a training and test sets, but there is a function `train_test_split` that does this for us."
   ]
  },
  {
   "cell_type": "code",
   "execution_count": 4,
   "id": "b2311ef0-a73d-4176-8cbf-6675a34032ae",
   "metadata": {},
   "outputs": [
    {
     "name": "stdout",
     "output_type": "stream",
     "text": [
      "The first 4 inputs:\n",
      "[[8.00000000e-01]\n",
      " [2.00000000e-01]\n",
      " [2.66453526e-15]\n",
      " [2.20000000e+00]]\n",
      "The corresponding 4 labels:\n",
      "[[2.4889178 ]\n",
      " [4.99914721]\n",
      " [4.68294197]\n",
      " [4.93583934]]\n"
     ]
    }
   ],
   "source": [
    "X_train, X_test, y_train, y_test = train_test_split(X, y, test_size=0.2, random_state=42)\n",
    "n = 4\n",
    "print(f\"The first {n} inputs:\")\n",
    "print(X_test[:n])\n",
    "print(f\"The corresponding {n} labels:\")\n",
    "print(y_test[:n])"
   ]
  },
  {
   "cell_type": "markdown",
   "id": "750655b6-40bb-4cc3-8ade-66c57f21dc68",
   "metadata": {
    "tags": []
   },
   "source": [
    "Using parameter `random_state=42` we can repeat exactly the same splitting arbitrarily.\n",
    "\n",
    "### Training `MLPRegressor`\n",
    "\n",
    "Class MLPRegressor implements a multi-layer perceptron (MLP) that trains using backpropagation with identity a the activation function in the output layer. Hence, the output neurons just output their potentials. In this way, such network can output any real value. The error function used by the network is the mean squared error.\n",
    "\n",
    "MLPRegressor also supports regression with multi-dimensional outputs -  the desired output can be a vector."
   ]
  },
  {
   "cell_type": "code",
   "execution_count": 5,
   "id": "7802045a-b8af-4c15-844c-dc5371cc9d5b",
   "metadata": {},
   "outputs": [
    {
     "name": "stderr",
     "output_type": "stream",
     "text": [
      "C:\\ProgramData\\Anaconda3\\envs\\idp3\\lib\\site-packages\\sklearn\\utils\\validation.py:63: DataConversionWarning: A column-vector y was passed when a 1d array was expected. Please change the shape of y to (n_samples, ), for example using ravel().\n",
      "  return f(*args, **kwargs)\n",
      "C:\\ProgramData\\Anaconda3\\envs\\idp3\\lib\\site-packages\\sklearn\\neural_network\\_multilayer_perceptron.py:617: ConvergenceWarning: Stochastic Optimizer: Maximum iterations (200) reached and the optimization hasn't converged yet.\n",
      "  % self.max_iter, ConvergenceWarning)\n"
     ]
    },
    {
     "data": {
      "text/plain": [
       "MLPRegressor(random_state=123)"
      ]
     },
     "execution_count": 5,
     "metadata": {},
     "output_type": "execute_result"
    }
   ],
   "source": [
    "from sklearn.neural_network import MLPRegressor\n",
    "\n",
    "mlp_regressor  = MLPRegressor(random_state=123)\n",
    "mlp_regressor.fit(X_train, y_train)"
   ]
  },
  {
   "cell_type": "markdown",
   "id": "aa209c48-b3ea-4fa7-8114-72e8f8351519",
   "metadata": {},
   "source": [
    "Now we can use the learned network to compute the approximation for the test samples."
   ]
  },
  {
   "cell_type": "code",
   "execution_count": 6,
   "id": "fc89b130-4f7b-4e27-8ea5-81776e451a4e",
   "metadata": {},
   "outputs": [
    {
     "name": "stdout",
     "output_type": "stream",
     "text": [
      "[1.75257859 1.67232722 1.69045494 2.32241619 2.81909897 1.83633411\n",
      " 3.70868981 2.44840648]\n",
      "[[2.4889178 ]\n",
      " [4.99914721]\n",
      " [4.68294197]\n",
      " [4.93583934]\n",
      " [4.26253328]\n",
      " [1.56528782]\n",
      " [4.99605331]\n",
      " [4.88146111]]\n",
      "Test R^2 Score : -2.017\n",
      "Training R^2 Score : -0.170\n"
     ]
    }
   ],
   "source": [
    "y_preds = mlp_regressor.predict(X_test)\n",
    "\n",
    "print(y_preds[:10])\n",
    "print(y_test[:10])\n",
    "\n",
    "print('Test R^2 Score : %.3f'%mlp_regressor.score(X_test, y_test)) ## Score method also evaluates accuracy for classification models.\n",
    "print('Training R^2 Score : %.3f'%mlp_regressor.score(X_train, y_train))"
   ]
  },
  {
   "cell_type": "markdown",
   "id": "4ebbedb4-2139-4a69-99a1-f64c31628ff8",
   "metadata": {},
   "source": [
    "We can see that the network did not learn the function. In the documentation for `MLPRegressor` we can see that this regressor has many parameter with some default values. \n",
    "\n",
    "Let us try 500 iteration instead of the default 200, less hidden neurons - 10 instead of 100 in one hidden layer, sigmoid activation function (`'logistic'`) instead of the default `'relu'` and the learning algorithm `'lgfgs'` that is a variant of Newton's method with a limited memory."
   ]
  },
  {
   "cell_type": "code",
   "execution_count": 7,
   "id": "cdec49c7-b385-49dd-b8d1-2b73d53b20b0",
   "metadata": {},
   "outputs": [
    {
     "name": "stderr",
     "output_type": "stream",
     "text": [
      "C:\\ProgramData\\Anaconda3\\envs\\idp3\\lib\\site-packages\\sklearn\\neural_network\\_multilayer_perceptron.py:500: ConvergenceWarning: lbfgs failed to converge (status=1):\n",
      "STOP: TOTAL NO. of ITERATIONS REACHED LIMIT.\n",
      "\n",
      "Increase the number of iterations (max_iter) or scale the data as shown in:\n",
      "    https://scikit-learn.org/stable/modules/preprocessing.html\n",
      "  self.n_iter_ = _check_optimize_result(\"lbfgs\", opt_res, self.max_iter)\n"
     ]
    },
    {
     "data": {
      "text/plain": [
       "MLPRegressor(activation='logistic', hidden_layer_sizes=[10], max_iter=500,\n",
       "             random_state=123, solver='lbfgs')"
      ]
     },
     "execution_count": 7,
     "metadata": {},
     "output_type": "execute_result"
    }
   ],
   "source": [
    "mlp_regressor  = MLPRegressor(random_state=123, \n",
    "                              hidden_layer_sizes=[10], \n",
    "                              max_iter=500, \n",
    "                              activation='logistic',\n",
    "                              solver='lbfgs')\n",
    "mlp_regressor.fit(X_train, y_train.ravel())"
   ]
  },
  {
   "cell_type": "code",
   "execution_count": 8,
   "id": "86f6103d-4075-4e62-83d6-94da5eca9b0d",
   "metadata": {},
   "outputs": [
    {
     "name": "stdout",
     "output_type": "stream",
     "text": [
      "Test R^2 Score : 0.850\n",
      "Training R^2 Score : 0.989\n"
     ]
    }
   ],
   "source": [
    "print('Test R^2 Score : %.3f'%mlp_regressor.score(X_test, y_test)) ## Score method also evaluates accuracy for classification models.\n",
    "print('Training R^2 Score : %.3f'%mlp_regressor.score(X_train, y_train))"
   ]
  },
  {
   "cell_type": "code",
   "execution_count": 9,
   "id": "b171a4a4-f134-463a-bc81-ecd7530b4625",
   "metadata": {},
   "outputs": [
    {
     "data": {
      "text/plain": [
       "[<matplotlib.lines.Line2D at 0x176e7be0c08>]"
      ]
     },
     "execution_count": 9,
     "metadata": {},
     "output_type": "execute_result"
    },
    {
     "data": {
      "image/png": "[encoded data removed]",
      "text/plain": [
       "<Figure size 432x288 with 1 Axes>"
      ]
     },
     "metadata": {
      "needs_background": "light"
     },
     "output_type": "display_data"
    }
   ],
   "source": [
    "XX = np.arange(-7, 10, 0.05).reshape(-1, 1)\n",
    "plt.plot(XX, 2 * np.sin(3 * XX + 1) + 3, 'r')\n",
    "plt.plot(X_train,y_train,'ob')\n",
    "plt.plot(X_test, y_test,'+b')\n",
    "plt.plot(XX, mlp_regressor.predict(XX),'g')\n"
   ]
  },
  {
   "cell_type": "markdown",
   "id": "806239af-7a47-4035-9e69-1f6ab0ccf7e0",
   "metadata": {},
   "source": [
    "$R^2$ score is called the *coefficient of determination* of the prediction. It is defined as $(1-\\frac{u}{v})$, where $u$ is the residual sum of squares `((y_true - y_pred) ** 2).sum()` and $v$ is the total sum of squares `((y_true - y_true.mean()) ** 2).sum()`. The best possible score is 1.0 and it can be negative (because the model can be arbitrarily worse). What is the range for $R^2$?"
   ]
  },
  {
   "cell_type": "code",
   "execution_count": 10,
   "id": "11f2d22c-347f-425d-8bf9-2ce9a9965182",
   "metadata": {},
   "outputs": [
    {
     "name": "stdout",
     "output_type": "stream",
     "text": [
      "Train set MSE: 0.019122492202522406\n",
      "Test set MSE: 0.23123265335267779\n"
     ]
    },
    {
     "data": {
      "text/plain": [
       "array([[  4.728428  ,  -6.15250299, -32.12745557, -12.46407964,\n",
       "          6.08030228,   7.79743174,   0.46118822,  -1.56870675,\n",
       "          6.28921798,   0.49718789]])"
      ]
     },
     "execution_count": 10,
     "metadata": {},
     "output_type": "execute_result"
    }
   ],
   "source": [
    "from sklearn.metrics import mean_squared_error\n",
    "\n",
    "print(\"Train set MSE:\", mean_squared_error(y_train, mlp_regressor.predict(X_train)))\n",
    "print(\"Test set MSE:\", mean_squared_error(y_test, mlp_regressor.predict(X_test)))\n",
    "\n",
    "mlp_regressor.coefs_[0]"
   ]
  },
  {
   "cell_type": "markdown",
   "id": "3bafef76-babb-420a-bc0b-8295dc04e8a8",
   "metadata": {},
   "source": [
    "Implement the following function that plots the evolution of MSE.\n",
    "\n",
    "**Note:** You can switch-off warnings using\n",
    "\n",
    "    import warnings\n",
    "    warnings.filterwarnings(\"ignore\")\n"
   ]
  },
  {
   "cell_type": "code",
   "execution_count": 39,
   "id": "ba35d840-e250-4750-b601-292187e10baf",
   "metadata": {},
   "outputs": [],
   "source": [
    "def monitor_MSE(regressor, X_train, X_test, y_train, y_test, iter_step=50):\n",
    "    # Fit the regressor regressor using traing set X_train with\n",
    "    # the desired outputs y_train, after each iteration compute\n",
    "    # MSE for the training and test sets.\n",
    "    # At the end plot the evolution of MSE on both train and test sets.\n",
    "    import warnings\n",
    "    warnings.filterwarnings(\"ignore\")\n",
    "    \n",
    "    max_iter = regressor.max_iter\n",
    "    regressor.set_params(max_iter=iter_step, warm_start=True)\n",
    "    orig_regressor_params = regressor.get_params()\n",
    "    print(orig_regressor_params)\n",
    "    \n",
    "    ...\n",
    "    \n",
    "    plt.yscale('log')\n",
    "    plt.plot(range(0,max_iter,iter_step), MSE_train, 'b')\n",
    "    plt.plot(range(0,max_iter,iter_step), MSE_test, 'r')\n",
    "    return regressor"
   ]
  },
  {
   "cell_type": "code",
   "execution_count": 12,
   "id": "c03102a0-51ca-479c-b284-f97dffae3ed3",
   "metadata": {
    "tags": []
   },
   "outputs": [
    {
     "name": "stdout",
     "output_type": "stream",
     "text": [
      "Test R^2 Score : 0.945\n",
      "Training R^2 Score : 0.998\n",
      "Train set MSE: 0.004151945985802848\n",
      "Test set MSE: 0.08424457564174447\n",
      "[[  3.4340261   -5.58283526 -23.05428228 -11.11398841   4.04043017\n",
      "    4.82493507  -3.5903247   -0.93185004   4.90198411   0.05615481]]\n",
      "Now with monitor\n"
     ]
    }
   ],
   "source": [
    "mlp_regressor  = MLPRegressor(random_state=123, \n",
    "                              hidden_layer_sizes=[10], \n",
    "                              max_iter=5000, \n",
    "                              activation='logistic',\n",
    "                              solver='lbfgs',\n",
    "                              early_stopping=True)\n",
    "mlp_regressor = mlp_regressor.fit(X_train, y_train.ravel())\n",
    "\n",
    "print('Test R^2 Score : %.3f'%mlp_regressor.score(X_test, y_test)) ## Score method also evaluates accuracy for classification models.\n",
    "print('Training R^2 Score : %.3f'%mlp_regressor.score(X_train, y_train))\n",
    "\n",
    "print(\"Train set MSE:\", mean_squared_error(y_train.ravel(), mlp_regressor.predict(X_train)))\n",
    "print(\"Test set MSE:\", mean_squared_error(y_test.ravel(), mlp_regressor.predict(X_test)))\n",
    "\n",
    "print(mlp_regressor.coefs_[0])\n",
    "\n",
    "print(\"Now with monitor\")"
   ]
  },
  {
   "cell_type": "code",
   "execution_count": null,
   "id": "cc4de949-8557-4e7e-8125-6f2d523af2a8",
   "metadata": {},
   "outputs": [],
   "source": [
    "mlp_regressor  = MLPRegressor(random_state=123, \n",
    "                              hidden_layer_sizes=[10], \n",
    "                              max_iter=500, \n",
    "                              activation='logistic',\n",
    "                              solver='lbfgs',\n",
    "                              warm_start=True)\n",
    "mlp_regressor = monitor_MSE(mlp_regressor, X_train, X_test, y_train.ravel(), y_test.ravel(), iter_step=50)\n",
    "\n",
    "print('Test R^2 Score : %.3f'%mlp_regressor.score(X_test, y_test)) ## Score method also evaluates accuracy for classification models.\n",
    "print('Training R^2 Score : %.3f'%mlp_regressor.score(X_train, y_train))\n",
    "\n",
    "print(\"Train set MSE:\", mean_squared_error(y_train, mlp_regressor.predict(X_train)))\n",
    "print(\"Test set MSE:\", mean_squared_error(y_test, mlp_regressor.predict(X_test)))\n",
    "\n",
    "mlp_regressor.coefs_[0]"
   ]
  },
  {
   "cell_type": "code",
   "execution_count": null,
   "id": "df9e6493-3c61-43b7-bcfc-3307609b9881",
   "metadata": {},
   "outputs": [],
   "source": [
    "mlp_regressor  = MLPRegressor(random_state=123, \n",
    "                              hidden_layer_sizes=[100], \n",
    "                              max_iter=1000, \n",
    "                              activation='tanh',\n",
    "                              learning_rate_init=0.0002,\n",
    "                              solver='adam',\n",
    "                              warm_start=True)\n",
    "mlp_regressor = monitor_MSE(mlp_regressor, X_train, X_test, y_train.ravel(), y_test.ravel(), iter_step=50)\n",
    "\n",
    "print('Test R^2 Score : %.3f'%mlp_regressor.score(X_test, y_test)) ## Score method also evaluates accuracy for classification models.\n",
    "print('Training R^2 Score : %.3f'%mlp_regressor.score(X_train, y_train))\n",
    "\n",
    "print(\"Train set MSE:\", mean_squared_error(y_train, mlp_regressor.predict(X_train)))\n",
    "print(\"Test set MSE:\", mean_squared_error(y_test, mlp_regressor.predict(X_test)))\n",
    "\n",
    "mlp_regressor.coefs_[0]"
   ]
  },
  {
   "cell_type": "code",
   "execution_count": 53,
   "id": "e9b9cf11-82f8-4b24-a465-9259742419ce",
   "metadata": {},
   "outputs": [
    {
     "data": {
      "text/plain": [
       "[<matplotlib.lines.Line2D at 0x19c0612e408>]"
      ]
     },
     "execution_count": 53,
     "metadata": {},
     "output_type": "execute_result"
    },
    {
     "data": {
      "image/png": "[encoded data removed]",
      "text/plain": [
       "<Figure size 432x288 with 1 Axes>"
      ]
     },
     "metadata": {
      "needs_background": "light"
     },
     "output_type": "display_data"
    }
   ],
   "source": [
    "XX = np.arange(-7, 10, 0.05).reshape(-1, 1)\n",
    "plt.plot(XX, 2 * np.sin(3 * XX + 1) + 3, 'r')\n",
    "plt.plot(X_train,y_train,'ob')\n",
    "plt.plot(X_test, y_test,'+b')\n",
    "plt.plot(XX, mlp_regressor.predict(XX),'g')\n"
   ]
  },
  {
   "cell_type": "markdown",
   "id": "b23089b3-c5b8-4e5a-a33b-bc995542a77a",
   "metadata": {},
   "source": [
    "Implement the following function that performs so called regression analysis of the trained regressor.  "
   ]
  },
  {
   "cell_type": "code",
   "execution_count": 15,
   "id": "e1b325a6-5b5a-4476-9a8c-dc07faa42a3f",
   "metadata": {},
   "outputs": [
    {
     "name": "stdout",
     "output_type": "stream",
     "text": [
      "{'activation': 'logistic', 'alpha': 0.0001, 'batch_size': 'auto', 'beta_1': 0.9, 'beta_2': 0.999, 'early_stopping': False, 'epsilon': 1e-08, 'hidden_layer_sizes': [10], 'learning_rate': 'constant', 'learning_rate_init': 0.001, 'max_fun': 15000, 'max_iter': 50, 'momentum': 0.9, 'n_iter_no_change': 10, 'nesterovs_momentum': True, 'power_t': 0.5, 'random_state': 123, 'shuffle': True, 'solver': 'lbfgs', 'tol': 0.0001, 'validation_fraction': 0.1, 'verbose': False, 'warm_start': True}\n",
      "[[  0.06430247   0.25753642 -11.08051036  -3.69227864   4.20105217\n",
      "    2.17058039   0.22197992   0.24211164   1.89712524   0.28513069]]\n",
      "[[  0.65294498   0.43073454 -11.06192323  -7.84864784   2.23222653\n",
      "    1.13688166   1.80552995   1.84482993   1.86827917   1.46081546]]\n",
      "[[ 2.34278025 -2.30306134 -9.55211489 -5.15619985  5.94067446  1.51549353\n",
      "   4.25057605  3.61300111  2.30645062  2.00083589]]\n",
      "[[ 2.2157701  -2.16364863 -6.23638944 -3.76760157  8.08337329  1.04657239\n",
      "   9.36012967  4.25905764  3.66447917  2.08342684]]\n",
      "[[ 5.54611532 -0.61926278 -1.44049555 -4.38097518  6.95582956  1.43533412\n",
      "   7.72264031  4.46755142  3.71388329  1.73901077]]\n",
      "[[ 6.05398434  0.16684671 -2.13396969 -4.68897038  6.70772294  4.66883379\n",
      "   7.13758825  4.10328546  3.7919534   3.43159147]]\n",
      "[[ 6.01850092 -0.16409468 -2.12315783 -4.73305509  5.12398259  4.54337959\n",
      "   6.76403363  4.19988643  3.81091892  3.59411974]]\n",
      "[[ 5.64048272 -0.17647605 -1.84391801 -4.2074244   4.39008569  6.13183517\n",
      "   5.4137948   4.65937952  3.73528357  3.59331316]]\n",
      "[[ 5.54907231 -0.19766091 -1.73744911 -4.00254552  4.81117902  5.78754796\n",
      "   5.3396264   4.81046614  3.72837229  3.553551  ]]\n",
      "[[ 5.45430898 -0.17574098 -1.70730493 -4.16884885  4.80778864  6.04895305\n",
      "   5.12479282  4.865818    3.66843383  3.53482363]]\n",
      "[[ 5.37800199 -0.18716974 -1.67134937 -4.18863181  4.65659293  5.83306606\n",
      "   5.11823295  4.89975335  3.65331506  3.52548872]]\n",
      "[[ 5.29555426 -0.18063087 -1.63289727 -4.23243024  4.79564619  5.96057141\n",
      "   5.03590729  4.93935986  3.62967522  3.50722899]]\n",
      "[[ 5.16908848 -0.19118167 -1.5929568  -4.26854908  4.71485927  5.84682973\n",
      "   4.95657483  5.02374587  3.59786318  3.47754882]]\n",
      "[[ 5.08834311 -0.18601417 -1.56967285 -4.38602853  4.63845898  5.69257283\n",
      "   4.93582267  5.03664095  3.59322959  3.45121588]]\n",
      "[[ 5.0637737  -0.18450693 -1.56700114 -4.36013637  4.71309858  5.82064645\n",
      "   4.89269642  5.06472986  3.5856978   3.44238449]]\n",
      "[[ 4.99009575 -0.18718986 -1.54179719 -4.43149529  4.62639112  5.66827348\n",
      "   4.88496041  5.08620464  3.58667468  3.41691108]]\n",
      "[[ 4.96917875 -0.18546829 -1.54181181 -4.41695006  4.69098401  5.77335076\n",
      "   4.84492221  5.11088941  3.5828939   3.40668325]]\n",
      "[[ 4.90040632 -0.18549763 -1.5243617  -4.48866776  4.60181044  5.63542471\n",
      "   4.82895091  5.12276666  3.59250964  3.37849822]]\n",
      "[[ 4.88319284 -0.18378224 -1.52438683 -4.46701415  4.67764798  5.75134316\n",
      "   4.79514183  5.14397475  3.58906642  3.36917724]]\n",
      "[[ 4.76928481 -0.18778758 -1.49119005 -4.55539277  4.56410387  5.56755809\n",
      "   4.78591549  5.1953411   3.61370777  3.31395034]]\n",
      "[[ 4.74967278 -0.18342665 -1.49432357 -4.55742809  4.63432627  5.67698128\n",
      "   4.73094985  5.1954589   3.61296521  3.30188689]]\n",
      "[[ 4.68175071 -0.18596137 -1.48157633 -4.60991989  4.53729051  5.53384072\n",
      "   4.71860508  5.23199569  3.64384989  3.2588851 ]]\n",
      "[[ 4.6690109  -0.18489302 -1.47757978 -4.60265325  4.61105868  5.63915218\n",
      "   4.69037531  5.23896334  3.63937968  3.25182096]]\n",
      "[[ 4.57716629 -0.18605053 -1.45412974 -4.67511124  4.50230417  5.47556728\n",
      "   4.66931272  5.27289833  3.69103507  3.19424784]]\n",
      "[[ 4.57053836 -0.18537646 -1.45886858 -4.65854123  4.58827655  5.60691188\n",
      "   4.63766632  5.28443608  3.68200138  3.18511068]]\n",
      "[[ 4.49465394 -0.18618069 -1.43355317 -4.72311687  4.49786293  5.46554433\n",
      "   4.63374385  5.30795194  3.73610977  3.13443178]]\n",
      "[[ 4.4907193  -0.18441628 -1.44350852 -4.71030562  4.56218289  5.56713913\n",
      "   4.59629357  5.31479354  3.73085009  3.12687522]]\n",
      "[[ 4.14501966 -0.17616835 -1.38167273 -4.98018121  4.37967492  5.27551842\n",
      "   4.45067054  5.42115514  3.99804302  2.87722438]]\n",
      "[[ 4.15475959 -0.18027886 -1.39054666 -4.93733761  4.42105683  5.38446314\n",
      "   4.41532833  5.45537198  3.96769261  2.87079712]]\n",
      "[[ 4.16227258 -0.17920335 -1.38251617 -4.9290432   4.45301472  5.43025047\n",
      "   4.40421514  5.45512414  3.96915971  2.87229262]]\n",
      "[[ 4.16009316 -0.17931706 -1.38170925 -4.94584338  4.42622901  5.38276261\n",
      "   4.40761147  5.45502491  3.98270595  2.87657474]]\n",
      "[[ 4.11869912 -0.17241282 -1.36587946 -4.97422367  4.46342532  5.42256896\n",
      "   4.37454157  5.45038269  4.03692744  2.89830958]]\n",
      "[[ 4.11622718 -0.17651593 -1.36731254 -4.97747458  4.40677282  5.35921846\n",
      "   4.38583241  5.45265089  4.04279896  2.89897158]]\n",
      "[[ 4.10186938 -0.17740824 -1.36336962 -4.97563363  4.42308004  5.39346694\n",
      "   4.37514406  5.44853343  4.05104753  2.89966235]]\n",
      "[[ 4.10026252 -0.176763   -1.36453138 -4.98507554  4.40291884  5.35769588\n",
      "   4.37403188  5.45239149  4.05986261  2.90529034]]\n",
      "[[ 4.09554934 -0.17871565 -1.3630438  -4.98148591  4.4053627   5.37053288\n",
      "   4.37112561  5.44892011  4.06334385  2.90333599]]\n",
      "[[ 4.09330689 -0.17682399 -1.36340752 -4.9880493   4.40605041  5.36170518\n",
      "   4.36719468  5.45069598  4.06871339  2.90851218]]\n",
      "[[ 4.08682578 -0.17855946 -1.36113803 -4.98877155  4.40012064  5.35897004\n",
      "   4.36395976  5.44828101  4.07685877  2.90940793]]\n",
      "[[ 4.08190549 -0.17750355 -1.36016623 -4.99433095  4.40305505  5.35694996\n",
      "   4.3615089   5.45198458  4.08404902  2.91450612]]\n",
      "[[ 4.07962259 -0.17965879 -1.3593046  -4.9905964   4.39437435  5.35537688\n",
      "   4.35925455  5.44965865  4.08548123  2.91229076]]\n",
      "[[ 4.0774139  -0.17826769 -1.35954114 -4.99585243  4.4022055   5.35427919\n",
      "   4.35733095  5.45165763  4.08967811  2.91591359]]\n",
      "[[ 4.01411994 -0.18292411 -1.34090558 -5.03008183  4.38308286  5.3214005\n",
      "   4.33458449  5.43881546  4.17732913  2.94580433]]\n",
      "[[ 4.01520708 -0.18450905 -1.34552134 -5.02250215  4.37969962  5.32291616\n",
      "   4.31259386  5.45158931  4.16762296  2.94318898]]\n",
      "[[ 3.90350226 -0.20190145 -1.32102759 -4.99646963  4.30773878  5.25253674\n",
      "   4.23729358  5.48367172  4.31034628  3.0231774 ]]\n",
      "[[ 3.88965781 -0.20543277 -1.31464301 -5.03145564  4.34486317  5.24583483\n",
      "   4.2221086   5.45501503  4.36970029  3.01175435]]\n",
      "[[ 3.87631778 -0.20633736 -1.31020782 -5.03532596  4.33698911  5.24277193\n",
      "   4.22337363  5.45521066  4.37149304  3.01382745]]\n",
      "[[ 3.87631948 -0.20633733 -1.31019526 -5.03532631  4.33698842  5.24277327\n",
      "   4.22337311  5.45520975  4.37149375  3.01382767]]\n",
      "[[ 3.87821103 -0.20675714 -1.31316018 -5.03799363  4.3382419   5.24776474\n",
      "   4.22062653  5.45591082  4.37440738  3.01379809]]\n",
      "[[ 3.83821747 -0.21964963 -1.30630499 -5.064486    4.26781872  5.2435872\n",
      "   4.19860859  5.45063056  4.41291676  3.03598531]]\n",
      "[[ 3.83901831 -0.21757247 -1.30869701 -5.07265612  4.2945708   5.25110947\n",
      "   4.18607985  5.45287187  4.4261416   3.03640208]]\n",
      "[[ 3.83901683 -0.21757276 -1.30870196 -5.07265576  4.29457191  5.25110888\n",
      "   4.18607681  5.45287111  4.42614108  3.03640176]]\n",
      "[[ 3.83901806 -0.21757292 -1.30869908 -5.07265553  4.29457259  5.25110851\n",
      "   4.18607509  5.45287065  4.42614076  3.03640156]]\n",
      "[[ 3.83739785 -0.2200026  -1.30591007 -5.06399576  4.31538054  5.24765971\n",
      "   4.1831473   5.45495978  4.43002059  3.03720721]]\n",
      "[[ 3.83743724 -0.21994927 -1.3056198  -5.06370601  4.31528423  5.24721732\n",
      "   4.18346231  5.45431211  4.42956878  3.0371101 ]]\n",
      "[[ 3.83743724 -0.21994927 -1.3056198  -5.06370601  4.31528423  5.24721732\n",
      "   4.18346231  5.45431211  4.42956878  3.0371101 ]]\n",
      "[[ 3.83743724 -0.21994927 -1.3056198  -5.06370601  4.31528423  5.24721732\n",
      "   4.18346231  5.45431211  4.42956878  3.0371101 ]]\n",
      "[[ 3.83743724 -0.21994927 -1.3056198  -5.06370601  4.31528423  5.24721732\n",
      "   4.18346231  5.45431211  4.42956878  3.0371101 ]]\n",
      "[[ 3.83743724 -0.21994927 -1.3056198  -5.06370601  4.31528423  5.24721732\n",
      "   4.18346231  5.45431211  4.42956878  3.0371101 ]]\n",
      "[[ 3.83743724 -0.21994927 -1.3056198  -5.06370601  4.31528423  5.24721732\n",
      "   4.18346231  5.45431211  4.42956878  3.0371101 ]]\n",
      "[[ 3.83743724 -0.21994927 -1.3056198  -5.06370601  4.31528423  5.24721732\n",
      "   4.18346231  5.45431211  4.42956878  3.0371101 ]]\n",
      "[[ 3.83743724 -0.21994927 -1.3056198  -5.06370601  4.31528423  5.24721732\n",
      "   4.18346231  5.45431211  4.42956878  3.0371101 ]]\n",
      "[[ 3.83743724 -0.21994927 -1.3056198  -5.06370601  4.31528423  5.24721732\n",
      "   4.18346231  5.45431211  4.42956878  3.0371101 ]]\n",
      "[[ 3.83743724 -0.21994927 -1.3056198  -5.06370601  4.31528423  5.24721732\n",
      "   4.18346231  5.45431211  4.42956878  3.0371101 ]]\n",
      "[[ 3.83743724 -0.21994927 -1.3056198  -5.06370601  4.31528423  5.24721732\n",
      "   4.18346231  5.45431211  4.42956878  3.0371101 ]]\n",
      "[[ 3.83743724 -0.21994927 -1.3056198  -5.06370601  4.31528423  5.24721732\n",
      "   4.18346231  5.45431211  4.42956878  3.0371101 ]]\n",
      "[[ 3.83743724 -0.21994927 -1.3056198  -5.06370601  4.31528423  5.24721732\n",
      "   4.18346231  5.45431211  4.42956878  3.0371101 ]]\n",
      "[[ 3.83743724 -0.21994927 -1.3056198  -5.06370601  4.31528423  5.24721732\n",
      "   4.18346231  5.45431211  4.42956878  3.0371101 ]]\n",
      "[[ 3.83743724 -0.21994927 -1.3056198  -5.06370601  4.31528423  5.24721732\n",
      "   4.18346231  5.45431211  4.42956878  3.0371101 ]]\n",
      "[[ 3.83743724 -0.21994927 -1.3056198  -5.06370601  4.31528423  5.24721732\n",
      "   4.18346231  5.45431211  4.42956878  3.0371101 ]]\n",
      "[[ 3.83743724 -0.21994927 -1.3056198  -5.06370601  4.31528423  5.24721732\n",
      "   4.18346231  5.45431211  4.42956878  3.0371101 ]]\n",
      "[[ 3.83743724 -0.21994927 -1.3056198  -5.06370601  4.31528423  5.24721732\n",
      "   4.18346231  5.45431211  4.42956878  3.0371101 ]]\n",
      "[[ 3.83743724 -0.21994927 -1.3056198  -5.06370601  4.31528423  5.24721732\n",
      "   4.18346231  5.45431211  4.42956878  3.0371101 ]]\n",
      "[[ 3.83743724 -0.21994927 -1.3056198  -5.06370601  4.31528423  5.24721732\n",
      "   4.18346231  5.45431211  4.42956878  3.0371101 ]]\n",
      "[[ 3.83743724 -0.21994927 -1.3056198  -5.06370601  4.31528423  5.24721732\n",
      "   4.18346231  5.45431211  4.42956878  3.0371101 ]]\n",
      "[[ 3.83743724 -0.21994927 -1.3056198  -5.06370601  4.31528423  5.24721732\n",
      "   4.18346231  5.45431211  4.42956878  3.0371101 ]]\n",
      "[[ 3.83743724 -0.21994927 -1.3056198  -5.06370601  4.31528423  5.24721732\n",
      "   4.18346231  5.45431211  4.42956878  3.0371101 ]]\n",
      "[[ 3.83743724 -0.21994927 -1.3056198  -5.06370601  4.31528423  5.24721732\n",
      "   4.18346231  5.45431211  4.42956878  3.0371101 ]]\n",
      "[[ 3.83743724 -0.21994927 -1.3056198  -5.06370601  4.31528423  5.24721732\n",
      "   4.18346231  5.45431211  4.42956878  3.0371101 ]]\n",
      "[[ 3.83743724 -0.21994927 -1.3056198  -5.06370601  4.31528423  5.24721732\n",
      "   4.18346231  5.45431211  4.42956878  3.0371101 ]]\n",
      "[[ 3.83743724 -0.21994927 -1.3056198  -5.06370601  4.31528423  5.24721732\n",
      "   4.18346231  5.45431211  4.42956878  3.0371101 ]]\n",
      "[[ 3.83743724 -0.21994927 -1.3056198  -5.06370601  4.31528423  5.24721732\n",
      "   4.18346231  5.45431211  4.42956878  3.0371101 ]]\n",
      "[[ 3.83743724 -0.21994927 -1.3056198  -5.06370601  4.31528423  5.24721732\n",
      "   4.18346231  5.45431211  4.42956878  3.0371101 ]]\n",
      "[[ 3.83743724 -0.21994927 -1.3056198  -5.06370601  4.31528423  5.24721732\n",
      "   4.18346231  5.45431211  4.42956878  3.0371101 ]]\n",
      "[[ 3.83743724 -0.21994927 -1.3056198  -5.06370601  4.31528423  5.24721732\n",
      "   4.18346231  5.45431211  4.42956878  3.0371101 ]]\n",
      "[[ 3.83743724 -0.21994927 -1.3056198  -5.06370601  4.31528423  5.24721732\n",
      "   4.18346231  5.45431211  4.42956878  3.0371101 ]]\n",
      "[[ 3.83743724 -0.21994927 -1.3056198  -5.06370601  4.31528423  5.24721732\n",
      "   4.18346231  5.45431211  4.42956878  3.0371101 ]]\n",
      "[[ 3.83743724 -0.21994927 -1.3056198  -5.06370601  4.31528423  5.24721732\n",
      "   4.18346231  5.45431211  4.42956878  3.0371101 ]]\n",
      "[[ 3.83743724 -0.21994927 -1.3056198  -5.06370601  4.31528423  5.24721732\n",
      "   4.18346231  5.45431211  4.42956878  3.0371101 ]]\n",
      "[[ 3.83743724 -0.21994927 -1.3056198  -5.06370601  4.31528423  5.24721732\n",
      "   4.18346231  5.45431211  4.42956878  3.0371101 ]]\n",
      "[[ 3.83743724 -0.21994927 -1.3056198  -5.06370601  4.31528423  5.24721732\n",
      "   4.18346231  5.45431211  4.42956878  3.0371101 ]]\n",
      "[[ 3.83743724 -0.21994927 -1.3056198  -5.06370601  4.31528423  5.24721732\n",
      "   4.18346231  5.45431211  4.42956878  3.0371101 ]]\n",
      "[[ 3.83743724 -0.21994927 -1.3056198  -5.06370601  4.31528423  5.24721732\n",
      "   4.18346231  5.45431211  4.42956878  3.0371101 ]]\n",
      "[[ 3.83743724 -0.21994927 -1.3056198  -5.06370601  4.31528423  5.24721732\n",
      "   4.18346231  5.45431211  4.42956878  3.0371101 ]]\n",
      "[[ 3.83743724 -0.21994927 -1.3056198  -5.06370601  4.31528423  5.24721732\n",
      "   4.18346231  5.45431211  4.42956878  3.0371101 ]]\n",
      "[[ 3.83743724 -0.21994927 -1.3056198  -5.06370601  4.31528423  5.24721732\n",
      "   4.18346231  5.45431211  4.42956878  3.0371101 ]]\n",
      "[[ 3.83743724 -0.21994927 -1.3056198  -5.06370601  4.31528423  5.24721732\n",
      "   4.18346231  5.45431211  4.42956878  3.0371101 ]]\n",
      "[[ 3.83743724 -0.21994927 -1.3056198  -5.06370601  4.31528423  5.24721732\n",
      "   4.18346231  5.45431211  4.42956878  3.0371101 ]]\n",
      "[[ 3.83743724 -0.21994927 -1.3056198  -5.06370601  4.31528423  5.24721732\n",
      "   4.18346231  5.45431211  4.42956878  3.0371101 ]]\n",
      "[[ 3.83743724 -0.21994927 -1.3056198  -5.06370601  4.31528423  5.24721732\n",
      "   4.18346231  5.45431211  4.42956878  3.0371101 ]]\n",
      "[[ 3.83743724 -0.21994927 -1.3056198  -5.06370601  4.31528423  5.24721732\n",
      "   4.18346231  5.45431211  4.42956878  3.0371101 ]]\n",
      "Test R^2 Score : 0.989\n",
      "Training R^2 Score : 0.997\n",
      "Train set MSE: 0.005931437964247248\n",
      "Test set MSE: 0.016413587813416782\n"
     ]
    },
    {
     "data": {
      "text/plain": [
       "array([[ 3.83743724, -0.21994927, -1.3056198 , -5.06370601,  4.31528423,\n",
       "         5.24721732,  4.18346231,  5.45431211,  4.42956878,  3.0371101 ]])"
      ]
     },
     "execution_count": 15,
     "metadata": {},
     "output_type": "execute_result"
    },
    {
     "data": {
      "image/png": "[encoded data removed]",
      "text/plain": [
       "<Figure size 432x288 with 1 Axes>"
      ]
     },
     "metadata": {
      "needs_background": "light"
     },
     "output_type": "display_data"
    }
   ],
   "source": [
    "mlp_regressor  = MLPRegressor(random_state=123, \n",
    "                              hidden_layer_sizes=[10], \n",
    "                              max_iter=5000, \n",
    "                              activation='logistic',\n",
    "                              solver='lbfgs',\n",
    "                              warm_start=True)\n",
    "mlp_regressor = monitor_MSE(mlp_regressor, X_train, X_test, y_train.ravel(), y_test.ravel(), iter_step=50)\n",
    "\n",
    "print('Test R^2 Score : %.3f'%mlp_regressor.score(X_test, y_test)) ## Score method also evaluates accuracy for classification models.\n",
    "print('Training R^2 Score : %.3f'%mlp_regressor.score(X_train, y_train))\n",
    "\n",
    "print(\"Train set MSE:\", mean_squared_error(y_train, mlp_regressor.predict(X_train)))\n",
    "print(\"Test set MSE:\", mean_squared_error(y_test, mlp_regressor.predict(X_test)))\n",
    "\n",
    "mlp_regressor.coefs_[0]"
   ]
  },
  {
   "cell_type": "code",
   "execution_count": null,
   "id": "0ac44991-bfc4-46f0-87f4-711915e077dc",
   "metadata": {},
   "outputs": [],
   "source": [
    "def regression_analysis(regressor, X_train, X_test, y_train, y_test):\n",
    "    # plot two plots: regressor predictions (y-axis) for the train \n",
    "    # set X_train against y_train (x-axis)\n",
    "    # and regressor predictions (y-axis) for the test \n",
    "    # set X_test against y_test (x-axis)\n",
    "    pass\n"
   ]
  },
  {
   "cell_type": "code",
   "execution_count": 19,
   "id": "6b10336a-c800-4d5d-90bb-89ac3bb760d3",
   "metadata": {},
   "outputs": [
    {
     "data": {
      "image/png": "[encoded data removed]",
      "text/plain": [
       "<Figure size 864x360 with 2 Axes>"
      ]
     },
     "metadata": {
      "needs_background": "light"
     },
     "output_type": "display_data"
    }
   ],
   "source": [
    "regression_analysis(mlp_regressor, X_train, X_test, y_train.ravel(), y_test.ravel())"
   ]
  },
  {
   "cell_type": "markdown",
   "id": "3964ff27-395f-4549-94aa-952c6664a092",
   "metadata": {},
   "source": [
    "## The Main Attributes of `MLPRegressor`\n",
    "\n",
    "* `loss_` is the loss after training,\n",
    "* `n_layers_` is the number of layers of the network,\n",
    "* `coefs_` is a list of arrays of length `n_layers - 1`; $i$-th array is the weight matrix of layer $i$,\n",
    "* `intercepts_` is a list of arrays of length `n_layers - 1`; $i$-th array is the bias vector associated with layer $i$, \n",
    "* `n_iter_` is the number of iterations the solver run,\n",
    "* `out_activation_` is the name of the output layer activation function.\n",
    "\n",
    "`MLPRegressor` uses the Square Error loss function that for an input pattern for which the network predicted $y_{pred}$ and the target value is $y_{true}$ computes $$loss(y_{pred}, y_{true},\\mathbf{W}) = \\frac{1}{2}\\lVert y_{pred} - y_{true}\\rVert_2^2 + \\frac{\\alpha}{2}\\lVert \\mathbf{W} \\rVert_2^2.$$ The `loss_` attribute is then the mean value of the loss on the train set."
   ]
  },
  {
   "cell_type": "code",
   "execution_count": 20,
   "id": "149db442-23d0-4cd0-8e1f-2a7f3bceacf1",
   "metadata": {},
   "outputs": [
    {
     "name": "stdout",
     "output_type": "stream",
     "text": [
      "Loss: 0.010434198256274054\n"
     ]
    }
   ],
   "source": [
    "print(\"Loss:\", mlp_regressor.loss_)"
   ]
  },
  {
   "cell_type": "code",
   "execution_count": 21,
   "id": "e977ed07-a759-4e77-9adf-423dd88f8d05",
   "metadata": {},
   "outputs": [
    {
     "name": "stdout",
     "output_type": "stream",
     "text": [
      "Number of Coefs - the weight matrices: 2\n"
     ]
    },
    {
     "data": {
      "text/plain": [
       "[(1, 10), (10, 1)]"
      ]
     },
     "execution_count": 21,
     "metadata": {},
     "output_type": "execute_result"
    }
   ],
   "source": [
    "print(\"Number of Coefs - the weight matrices:\", len(mlp_regressor.coefs_))\n",
    "\n",
    "[weights.shape for weights in mlp_regressor.coefs_]"
   ]
  },
  {
   "cell_type": "code",
   "execution_count": 22,
   "id": "02b6436b-a121-4ccb-9121-3529f5c92618",
   "metadata": {},
   "outputs": [
    {
     "name": "stdout",
     "output_type": "stream",
     "text": [
      "Number of Intercepts - the number of vectors with biases: 2\n"
     ]
    },
    {
     "data": {
      "text/plain": [
       "[(10,), (1,)]"
      ]
     },
     "execution_count": 22,
     "metadata": {},
     "output_type": "execute_result"
    }
   ],
   "source": [
    "print(\"Number of Intercepts - the number of vectors with biases:\", len(mlp_regressor.intercepts_))\n",
    "\n",
    "[intercept.shape for intercept in mlp_regressor.intercepts_]"
   ]
  },
  {
   "cell_type": "code",
   "execution_count": 23,
   "id": "53d42337-999f-42d4-b966-915a9519f8da",
   "metadata": {},
   "outputs": [
    {
     "name": "stdout",
     "output_type": "stream",
     "text": [
      "Number of Iterations for Which Estimator Ran: 50\n"
     ]
    }
   ],
   "source": [
    "print(\"Number of Iterations for Which Estimator Ran:\", mlp_regressor.n_iter_)"
   ]
  },
  {
   "cell_type": "code",
   "execution_count": 24,
   "id": "8bc990b4-95cc-40c9-80dd-c8af85a39cf6",
   "metadata": {},
   "outputs": [
    {
     "name": "stdout",
     "output_type": "stream",
     "text": [
      "Name of Output Layer Activation Function: identity\n"
     ]
    }
   ],
   "source": [
    "print(\"Name of Output Layer Activation Function:\", mlp_regressor.out_activation_)"
   ]
  },
  {
   "cell_type": "markdown",
   "id": "abc66a53-e37a-4ad9-80e7-6b222b212475",
   "metadata": {},
   "source": [
    "`MLPRegressor` has much more parameters. for a complete list see the [documentation](https://scikit-learn.org/stable/modules/generated/sklearn.neural_network.MLPRegressor.html#sklearn.neural_network.MLPRegressor). We will use some of them:\n",
    "\n",
    "* `hidden_layer_sizes` is a tuple of integers specifying sizes of hidden layers in multi layer perceptrons with default=(100,),\n",
    "* `activation` specifies activation function for hidden layers. It accepts one of below strings as input. Default value is `relu`:\n",
    "  * `'identity'` - No Activation. $f(x) = x$,\n",
    "  * `'logistic'` - Logistic Sigmoid Function. $f(x) = \\frac{1}{1 + e^-x}$,\n",
    "  * `'tanh'` - Hyperbolic tangent function. $f(x) = \\tanh(x)$,\n",
    "  * `'relu'` - Rectified Linear Unit function. $f(x) = \\max(0, x)$,\n",
    "\n",
    "* `solver` accepts one of `'lbfgs'`, `'sgd'`, `'adam'` strings specifying which optimization solver to use for updating weights of neural network hidden layer perceptrons. default=`'adam'`,\n",
    "\n",
    "* `learning_rate_init` specifies initial learning rate to be used. Based on value of this parameter weights of perceptrons are updated. default=`0.001`,\n",
    "* `learning_rate` specifies learning rate schedule to be used for training. It accepts one of below strings as value and only applicable when solver='sgd'.\n",
    "  * `'constant'` - Keeps learning rate constant through a learning process which was set in `learning_rate_init`.\n",
    "  * `'invscaling'` - It gradually decreases learning rate. `effective_learning_rate = learning_rate_init / pow(t, power_t)`,\n",
    "  * `'adaptive'` - It keeps learning rate constant as long as loss is decreasing or score is improving. If consecutive epochs fails in decreasing loss according \n",
    "    to `tol` parameter and `early_stopping` is on, then it divides current learning rate by 5,\n",
    "    \n",
    "* `batch_size` accepts integer value specifying size of batch to use for dataset. Default=`'auto'`. The default auto batch size will set batch size to `min(200, n_samples)`,\n",
    "\n",
    "* `tol` accepts float values specifying threshold for optimization. When training loss or score is not improved by at least `tol` for `n_iter_no_change` iterations, then optimization ends if `learning_rate` is constant else it decreases learning rate if `learning_rate` is adaptive. Default=`0.0001`,\n",
    "\n",
    "* `alpha` specifies L2 penalty coefficient to be applied to perceptrons. Default=`0.0001`,\n",
    "\n",
    "* `momentum` specifies momentum to be used for gradient descent and accepts float value between 0-1. It's applicable when solver is `sgd`,\n",
    "\n",
    "* `early_stopping` is a boolean value specifying whether to stop training if training score/loss is not improving. Default=`False`,\n",
    "\n",
    "* `validation_fraction` is a float value between 0-1 specifying amount of training data to keep aside if early_stopping is set. Default=`0.1`."
   ]
  },
  {
   "cell_type": "markdown",
   "id": "cce90c48-dfaa-49f6-8259-ccc2af7dbc0e",
   "metadata": {},
   "source": [
    "## Optimizing Model by Grid Search\n",
    "\n",
    "We have seen that MLPRegressor has many parameters. The search for a suitable \n",
    "combination of values for several parameters can be tedious. Let us collect values for\n",
    "such parameters that we would like to try."
   ]
  },
  {
   "cell_type": "code",
   "execution_count": 25,
   "id": "f61535cc-4228-443b-af0e-93fa17623497",
   "metadata": {},
   "outputs": [],
   "source": [
    "import itertools\n",
    "from sklearn.model_selection import GridSearchCV"
   ]
  },
  {
   "cell_type": "code",
   "execution_count": 26,
   "id": "1d709b2f-b9a0-4ee8-bf27-655a0cc87bf6",
   "metadata": {},
   "outputs": [],
   "source": [
    "params = {'activation': ['relu', 'tanh', 'logistic'],\n",
    "          'hidden_layer_sizes': list(itertools.permutations([10,20,50],2)) + [10, 20, 30, 50],\n",
    "          'solver': ['adam','lbfgs'],\n",
    "          'learning_rate': ['constant', 'adaptive', 'invscaling']\n",
    "         }                                "
   ]
  },
  {
   "cell_type": "markdown",
   "id": "709b6b8a-c5a6-4715-8f90-fbb7e7288aa7",
   "metadata": {},
   "source": [
    "Now `GridSearchCV` can try all combinations of params. For compapring the combinations we will use 5-fold cross-validation."
   ]
  },
  {
   "cell_type": "code",
   "execution_count": 28,
   "id": "7bdbf032-5ff9-4697-a3d6-e4a1f3e32176",
   "metadata": {},
   "outputs": [
    {
     "name": "stdout",
     "output_type": "stream",
     "text": [
      "Fitting 5 folds for each of 180 candidates, totalling 900 fits\n",
      "Train R^2 Score : 0.938\n",
      "Test R^2 Score : 0.314\n",
      "Best R^2 Score Through Grid Search : 0.817\n",
      "Best Parameters :  {'activation': 'relu', 'hidden_layer_sizes': (10, 50), 'learning_rate': 'constant', 'solver': 'lbfgs'}\n",
      "Wall time: 21.4 s\n"
     ]
    }
   ],
   "source": [
    "%%time\n",
    "\n",
    "mlp_regressor_grid = GridSearchCV(MLPRegressor(random_state=123), param_grid=params, n_jobs=-1, cv=5, verbose=5)\n",
    "mlp_regressor_grid.fit(X_train,y_train)\n",
    "\n",
    "print('Train R^2 Score : %.3f'%mlp_regressor_grid.best_estimator_.score(X_train, y_train))\n",
    "print('Test R^2 Score : %.3f'%mlp_regressor_grid.best_estimator_.score(X_test, y_test))\n",
    "print('Best R^2 Score Through Grid Search : %.3f'%mlp_regressor_grid.best_score_)\n",
    "print('Best Parameters : ',mlp_regressor_grid.best_params_)"
   ]
  },
  {
   "cell_type": "code",
   "execution_count": null,
   "id": "edc9f1e7-8510-4e00-9bbd-e202da1406ce",
   "metadata": {},
   "outputs": [],
   "source": [
    "XX = np.arange(-5, 10, 0.05).reshape(-1, 1)\n",
    "plt.plot(XX, 2 * np.sin(3 * XX + 1) + 3, 'r')\n",
    "plt.plot(X_train,y_train,'ob')\n",
    "plt.plot(X_test, y_test,'+b')\n",
    "plt.plot(XX, mlp_regressor_grid.best_estimator_.predict(XX),'g')"
   ]
  },
  {
   "cell_type": "markdown",
   "id": "90bed540-05b0-4f04-918c-7765f7bba099",
   "metadata": {},
   "source": [
    "Try to improve the regressor by fine-tuning the initial value for the learning rate - parameter `learning_rate_initr` - and the regularization coefficient `alpha` - L2 penalty parameter and/or different architectures for the network."
   ]
  },
  {
   "cell_type": "code",
   "execution_count": 72,
   "id": "d200c7f6-c9ac-4763-bd9e-b562a9d8d8af",
   "metadata": {},
   "outputs": [],
   "source": [
    "params = {'activation': ['relu', 'tanh', 'logistic'],\n",
    "          'hidden_layer_sizes': [(50,10), (30,5)] + [10, 20, 30, 40, 50],\n",
    "          'solver': ['adam','lbfgs'],\n",
    "          'learning_rate': ['constant', 'adaptive', 'invscaling'],\n",
    "          'learning_rate_init': [0.1, 0.01, 0.001],\n",
    "          'alpha': [0.00001, 0.0001, 0.001] \n",
    "         } "
   ]
  },
  {
   "cell_type": "markdown",
   "id": "ebfc0af1-a3ed-414e-b644-fd02486404f6",
   "metadata": {},
   "source": [
    "Can you describe any strategy (heuristics) how be more efficient than the brute-force grid search?"
   ]
  },
  {
   "cell_type": "markdown",
   "id": "862c78c6-4d49-4ccb-82d3-52a3979d9213",
   "metadata": {},
   "source": [
    "# MLPClassifier\n",
    "\n",
    "MLPClassifier is a classifier based on multi-layer perceptron. It differs from `MLPRegressor` mainly in the activation function at the output layer - it is logistic (sigmoid) and the output of the network is computed as the sofmax function. For classification, the target class is encoded using one-hot-encoding. For $K$ classes, the value of the class is a vector that contains exactly one value 1 and the remaining elements are zeros. E.g., let $K=3$, then \n",
    "1. class will be encoded as $(1,0,0,0)$,\n",
    "2. class will be encoded as $(0,1,0,0)$,\n",
    "3. class will be encoded as $(0,0,1,0)$,\n",
    "4. class will be encoded as $(0,0,0,1)$.\n",
    "\n",
    "Hence, the output layer will have $K$ neurons - $i$-th neuron corresponds to the $i$-th class. The outputs on the output layer is computes as\n",
    "$$softmax(\\xi_i) = \\frac{e^{\\xi_i}}{\\sum_{j=1}^K e^\\xi_j},$$\n",
    "where $\\xi_i$ is the potential at neuron $i$. The predicted class is class $i_0$ such that its corresponding value of $softmax(\\xi_i)$ is maximal. We can interpret the output of the $i$-th neuron of the softmax layer as the probability of belonging to class $i$. \n",
    "\n",
    "Let us try a simple example. Train data we get directly from `scikit-learn` library."
   ]
  },
  {
   "cell_type": "code",
   "execution_count": 29,
   "id": "2b56a4be-3a36-4f71-9eeb-d554be99de2d",
   "metadata": {},
   "outputs": [
    {
     "name": "stdout",
     "output_type": "stream",
     "text": [
      "Dataset Sizes :  (1797, 64) (1797,)\n"
     ]
    }
   ],
   "source": [
    "from sklearn.datasets import load_digits, load_boston\n",
    "\n",
    "digits = load_digits()\n",
    "X_digits, y_digits = digits.data, digits.target\n",
    "print('Dataset Sizes : ', X_digits.shape, y_digits.shape)"
   ]
  },
  {
   "cell_type": "markdown",
   "id": "87372cc5-542f-4fda-8bf5-8adf7d76af31",
   "metadata": {},
   "source": [
    "The description of the data is stored together with the data."
   ]
  },
  {
   "cell_type": "code",
   "execution_count": null,
   "id": "be9e1c7e-bed5-4851-9a02-23437bbfa86d",
   "metadata": {},
   "outputs": [],
   "source": [
    "print(digits.DESCR)"
   ]
  },
  {
   "cell_type": "markdown",
   "id": "b9decc1d-e894-4252-95ca-1f21c8183058",
   "metadata": {},
   "source": [
    "Let us prepare train and test data. In order to have balanced train set, we will used the so-call stratified selection so that the class composition for both train and test sets will be the same. When we put 80% of samples in the train set and 20% in the test set, then for each class, 80% of samples will go into the train set and 20% in the test set."
   ]
  },
  {
   "cell_type": "code",
   "execution_count": 31,
   "id": "38fb4258-3c9b-4122-9bb2-8df6238f9bfb",
   "metadata": {},
   "outputs": [
    {
     "name": "stdout",
     "output_type": "stream",
     "text": [
      "Train/Test Sizes :  (1437, 64) (360, 64) (1437,) (360,)\n"
     ]
    }
   ],
   "source": [
    "X_train, X_test, y_train, y_test = train_test_split(X_digits, y_digits, train_size=0.80, test_size=0.20, stratify=y_digits, random_state=123)\n",
    "print('Train/Test Sizes : ', X_train.shape, X_test.shape, y_train.shape, y_test.shape)"
   ]
  },
  {
   "cell_type": "code",
   "execution_count": 34,
   "id": "fd39d1f3-0e22-4b54-b146-9043bfed1c82",
   "metadata": {},
   "outputs": [
    {
     "name": "stdout",
     "output_type": "stream",
     "text": [
      "{'activation': 'relu', 'alpha': 0.0001, 'batch_size': 'auto', 'beta_1': 0.9, 'beta_2': 0.999, 'early_stopping': False, 'epsilon': 1e-08, 'hidden_layer_sizes': (100,), 'learning_rate': 'constant', 'learning_rate_init': 0.001, 'max_fun': 15000, 'max_iter': 200, 'momentum': 0.9, 'n_iter_no_change': 10, 'nesterovs_momentum': True, 'power_t': 0.5, 'random_state': 123, 'shuffle': True, 'solver': 'adam', 'tol': 0.0001, 'validation_fraction': 0.1, 'verbose': False, 'warm_start': False}\n"
     ]
    }
   ],
   "source": [
    "from sklearn.neural_network import MLPClassifier\n",
    "\n",
    "mlp_classifier  = MLPClassifier(random_state=123)\n",
    "mlp_classifier.fit(X_train, y_train)\n",
    "print(mlp_classifier.get_params())"
   ]
  },
  {
   "cell_type": "markdown",
   "id": "10f8c3ef-3002-4283-84fe-3aa06ed88ed6",
   "metadata": {},
   "source": [
    "## Training and Evaluatin the Classifier"
   ]
  },
  {
   "cell_type": "code",
   "execution_count": 35,
   "id": "b7fda031-c07c-4be0-a1b4-1b0b09479552",
   "metadata": {},
   "outputs": [
    {
     "name": "stdout",
     "output_type": "stream",
     "text": [
      "[5 9 9 6 1 6 6 9 8 7 4 2 1 4 3]\n",
      "[5 9 9 6 1 6 6 9 8 7 4 2 1 4 3]\n",
      "Test Accuracy : 0.983\n",
      "Training Accuracy : 1.000\n"
     ]
    }
   ],
   "source": [
    "y_preds = mlp_classifier.predict(X_test)\n",
    "\n",
    "print(y_preds[:15])\n",
    "print(y_test[:15])\n",
    "\n",
    "print('Test Accuracy : %.3f'%mlp_classifier.score(X_test, y_test)) ## Score method also evaluates accuracy for classification models.\n",
    "print('Training Accuracy : %.3f'%mlp_classifier.score(X_train, y_train))"
   ]
  },
  {
   "cell_type": "markdown",
   "id": "b65a4f57-601b-48fb-87d3-d862a98f4aff",
   "metadata": {},
   "source": [
    "## Confusion Matrix\n",
    "\n",
    "Confusion matrix is a matrix $C=(c_ij)_{K\\times K}$, where $c_ij$ is the number of observations known to be in class $i$ and predicted to be in class $j$. We will use the following function to plot such confusion matrices."
   ]
  },
  {
   "cell_type": "code",
   "execution_count": 36,
   "id": "cb55f4ea-5ebc-4c5c-9022-4b01f9320e06",
   "metadata": {},
   "outputs": [],
   "source": [
    "from sklearn.metrics import confusion_matrix\n",
    "\n",
    "def plot_confusion_matrix(y_test, y_preds, K):\n",
    "    # we suppose that y_test and y_preds contain numbers between 0 and K-1\n",
    "    conf_mat = confusion_matrix(y_test, y_preds)\n",
    "    fig = plt.figure(figsize=(8,8))\n",
    "    plt.matshow(conf_mat, cmap=plt.cm.Blues, fignum=1)\n",
    "    plt.yticks(range(K), range(K))\n",
    "    plt.xticks(range(K), range(K))\n",
    "    plt.xlabel('Predicted class')\n",
    "    plt.ylabel('True class')\n",
    "    plt.colorbar();\n",
    "    for i in range(K):\n",
    "        for j in range(K):\n",
    "            plt.text(i-0.2,j+0.1, str(conf_mat[j, i]), color='r')"
   ]
  },
  {
   "cell_type": "code",
   "execution_count": 37,
   "id": "7a61b1b4-8518-427b-9e3c-f973c5496afe",
   "metadata": {},
   "outputs": [
    {
     "data": {
      "image/png": "[encoded data removed]",
      "text/plain": [
       "<Figure size 576x576 with 2 Axes>"
      ]
     },
     "metadata": {
      "needs_background": "light"
     },
     "output_type": "display_data"
    }
   ],
   "source": [
    "plot_confusion_matrix(y_test, mlp_classifier.predict(X_test), 10)"
   ]
  },
  {
   "cell_type": "markdown",
   "id": "a461ecdd-c45f-4913-8b9d-19b02d19c45e",
   "metadata": {},
   "source": [
    "## The Main Attributes of `MLPClassifier`\n",
    "\n",
    "The attributes of `MLPClassifier` and `MLPRegressor` are almost the same. The main difference is in the loss function.\n",
    "\n",
    "`MLPClassifier` uses the cross-entropy loss function. For binary classification if the network predicted $y_{pred}$ and the target value was $y_{true}$, then the loss is\n",
    "$$loss(y_{pred}, y_{true},\\mathbf{W}) = -y_{true} \\ln y_{pred} - (1-y_{true}) \\ln (1 - y_{pred}) + \\frac{\\alpha}{2}\\lVert \\mathbf{W} \\rVert_2^2.$$ \n",
    "\n",
    "In case of more than two classes, let the true labels for a set of samples be encoded as a 1-of-K binary indicator matrix $Y$, i.e., $y_{i,k}=1$ if sample $i$ has label $k$ from a set of $K$ labels. Let $P$ be a matrix of probability estimates $p_{i,k}= \\mathrm{Pr}(y_{i,k}=1)$. Then the log-loss of the whole set is\n",
    "$$loss(y_{pred}, y_{true},\\mathbf{W}) = - \\log \\mathrm{Pr}(Y |P)  + \\frac{\\alpha}{2}\\lVert \\mathbf{W} \\rVert_2^2 = - \\frac{1}{N}\\sum_{i=0}^{N-1}\\sum_{k=0}^{K-1} y_{i,k} \\log p_{i.k}  + \\frac{\\alpha}{2}\\lVert \\mathbf{W} \\rVert_2^2,$$ where $N$ is the number of samples."
   ]
  },
  {
   "cell_type": "code",
   "execution_count": 38,
   "id": "673836d8-9053-426c-ae48-52b102d560fe",
   "metadata": {},
   "outputs": [
    {
     "name": "stdout",
     "output_type": "stream",
     "text": [
      "Loss: 0.0034728684994180608\n"
     ]
    }
   ],
   "source": [
    "print(\"Loss:\", mlp_classifier.loss_)"
   ]
  },
  {
   "cell_type": "code",
   "execution_count": 39,
   "id": "a1c5c140-0730-4c79-a26b-2bfd6e90c60e",
   "metadata": {},
   "outputs": [
    {
     "name": "stdout",
     "output_type": "stream",
     "text": [
      "Number of Coefs - the weight matrices: 2\n"
     ]
    },
    {
     "data": {
      "text/plain": [
       "[(64, 100), (100, 10)]"
      ]
     },
     "execution_count": 39,
     "metadata": {},
     "output_type": "execute_result"
    }
   ],
   "source": [
    "print(\"Number of Coefs - the weight matrices:\", len(mlp_classifier.coefs_))\n",
    "\n",
    "[weights.shape for weights in mlp_classifier.coefs_]"
   ]
  },
  {
   "cell_type": "code",
   "execution_count": 40,
   "id": "cc8a9615-90ff-4fe7-9be7-23db7cc288e0",
   "metadata": {},
   "outputs": [
    {
     "name": "stdout",
     "output_type": "stream",
     "text": [
      "Number of Intercepts - the number of vectors with biases: 2\n"
     ]
    },
    {
     "data": {
      "text/plain": [
       "[(100,), (10,)]"
      ]
     },
     "execution_count": 40,
     "metadata": {},
     "output_type": "execute_result"
    }
   ],
   "source": [
    "print(\"Number of Intercepts - the number of vectors with biases:\", len(mlp_classifier.intercepts_))\n",
    "\n",
    "[intercept.shape for intercept in mlp_classifier.intercepts_]"
   ]
  },
  {
   "cell_type": "code",
   "execution_count": 41,
   "id": "3cfb58fc-72c3-4845-bd6c-0df263bee1b8",
   "metadata": {},
   "outputs": [
    {
     "name": "stdout",
     "output_type": "stream",
     "text": [
      "Number of Iterations for Which Estimator Ran: 125\n"
     ]
    }
   ],
   "source": [
    "print(\"Number of Iterations for Which Estimator Ran:\", mlp_classifier.n_iter_)"
   ]
  },
  {
   "cell_type": "code",
   "execution_count": 42,
   "id": "e3351026-536c-43f1-b010-b192d16db6a7",
   "metadata": {},
   "outputs": [
    {
     "name": "stdout",
     "output_type": "stream",
     "text": [
      "Name of Output Layer Activation Function: identity\n"
     ]
    }
   ],
   "source": [
    "print(\"Name of Output Layer Activation Function:\", mlp_regressor.out_activation_)"
   ]
  },
  {
   "cell_type": "markdown",
   "id": "c7049e3b-eda2-4a98-876f-32ff60a988a4",
   "metadata": {},
   "source": [
    "## `GridSearchCV`\n",
    "\n",
    "Again we can try to optimize the model using GridSearchCV."
   ]
  },
  {
   "cell_type": "code",
   "execution_count": 43,
   "id": "cac67761-26e8-4336-acaf-a1c620f4bc7f",
   "metadata": {},
   "outputs": [
    {
     "name": "stdout",
     "output_type": "stream",
     "text": [
      "Fitting 5 folds for each of 108 candidates, totalling 540 fits\n",
      "Train Accuracy : 1.000\n",
      "Test Accuracy : 0.986\n",
      "Best Accuracy Through Grid Search : 0.980\n",
      "Best Parameters :  {'activation': 'logistic', 'hidden_layer_sizes': (100,), 'learning_rate': 'constant', 'solver': 'adam'}\n",
      "Wall time: 2min 45s\n"
     ]
    }
   ],
   "source": [
    "%%time\n",
    "\n",
    "from sklearn.model_selection import GridSearchCV\n",
    "\n",
    "params = {'activation': ['relu', 'tanh', 'logistic', 'identity'],\n",
    "          'hidden_layer_sizes': [(100,), (50,100,), (50,75,100,)],\n",
    "          'solver': ['adam', 'sgd', 'lbfgs'],\n",
    "          'learning_rate' : ['constant', 'adaptive', 'invscaling']\n",
    "         }\n",
    "\n",
    "mlp_classif_grid = GridSearchCV(MLPClassifier(random_state=123), param_grid=params, n_jobs=-1, cv=5, verbose=5)\n",
    "mlp_classif_grid.fit(X_train,y_train)\n",
    "\n",
    "print('Train Accuracy : %.3f'%mlp_classif_grid.best_estimator_.score(X_train, y_train))\n",
    "print('Test Accuracy : %.3f'%mlp_classif_grid.best_estimator_.score(X_test, y_test))\n",
    "print('Best Accuracy Through Grid Search : %.3f'%mlp_classif_grid.best_score_)\n",
    "print('Best Parameters : ',mlp_classif_grid.best_params_)"
   ]
  },
  {
   "cell_type": "markdown",
   "id": "0d1e14ae-fc0d-4a71-bf53-2a71bcdfa8ed",
   "metadata": {},
   "source": [
    "## Plotting Confusion Matrix"
   ]
  },
  {
   "cell_type": "code",
   "execution_count": 117,
   "id": "e13ef212-98d1-42ac-b11f-06193d32c751",
   "metadata": {},
   "outputs": [
    {
     "data": {
      "image/png": "[encoded data removed]",
      "text/plain": [
       "<Figure size 576x576 with 2 Axes>"
      ]
     },
     "metadata": {
      "needs_background": "light"
     },
     "output_type": "display_data"
    }
   ],
   "source": [
    "plot_confusion_matrix(y_test, mlp_classif_grid.best_estimator_.predict(X_test), 10)"
   ]
  }
 ],
 "metadata": {
  "kernelspec": {
   "display_name": "Python 3 (ipykernel)",
   "language": "python",
   "name": "python3"
  },
  "language_info": {
   "codemirror_mode": {
    "name": "ipython",
    "version": 3
   },
   "file_extension": ".py",
   "mimetype": "text/x-python",
   "name": "python",
   "nbconvert_exporter": "python",
   "pygments_lexer": "ipython3",
   "version": "3.7.11"
  }
 },
 "nbformat": 4,
 "nbformat_minor": 5
}
