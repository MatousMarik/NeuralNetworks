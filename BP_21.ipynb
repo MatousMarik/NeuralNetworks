{
 "cells": [
  {
   "cell_type": "code",
   "execution_count": 2,
   "id": "353d7692",
   "metadata": {},
   "outputs": [],
   "source": [
    "import numpy as np\n",
    "import matplotlib.pyplot as plt"
   ]
  },
  {
   "cell_type": "markdown",
   "id": "cc9bea5c",
   "metadata": {},
   "source": [
    "# Multi-Layered Neural Networks and the Backpropagation Algorithm\n",
    "\n",
    "For easy computing potential on a neuron, the weights of incoming\n",
    "synapses of the neuron are stored as a row vector.\n",
    " \n",
    "Let us take a neural network with the topology [2,2,1], i.e., the network\n",
    "has 2 input neurons, 2 hidden neurons in a single hidden layer, and one\n",
    "output neuron. Let the weights of synapses between the input and the\n",
    "hidden layer be in the following matrix:"
   ]
  },
  {
   "cell_type": "code",
   "execution_count": 3,
   "id": "9f49b11b",
   "metadata": {},
   "outputs": [],
   "source": [
    "w_i_h = np.array([[0.5, -0.5],\n",
    "                  [1.5,  0.5]])"
   ]
  },
  {
   "cell_type": "markdown",
   "id": "168d337a",
   "metadata": {},
   "source": [
    "`w_i_h[i,j]` is the weight of the synapse from the input `i` into the\n",
    "hidden neuron `j`. I.e., each row of the weight matrix corresponds to\n",
    "the weights of synapses leading **from** one neuron!\n",
    "\n",
    "Let the synaptic weights between the hidden and the output layer\n",
    "be in the matrix:"
   ]
  },
  {
   "cell_type": "code",
   "execution_count": 4,
   "id": "1bd69fe9",
   "metadata": {},
   "outputs": [],
   "source": [
    "w_h_o = np.array([[2.0], [-1.0]])"
   ]
  },
  {
   "cell_type": "markdown",
   "id": "0c54d06d",
   "metadata": {},
   "source": [
    "`w_h_o[i,0]` is the weight of the connection from the hidden neuron `i` \n",
    "to the output neuron. Thresholds of the hidden neurons are in the vector:"
   ]
  },
  {
   "cell_type": "code",
   "execution_count": 5,
   "id": "8fb771d1",
   "metadata": {},
   "outputs": [],
   "source": [
    "b_h = np.array([0, 0.5])"
   ]
  },
  {
   "cell_type": "markdown",
   "id": "9b157ba9",
   "metadata": {},
   "source": [
    "and the threshold of the outout neuron is:"
   ]
  },
  {
   "cell_type": "code",
   "execution_count": 6,
   "id": "fe4c4af5",
   "metadata": {},
   "outputs": [],
   "source": [
    "b_o = np.array([-0.5])"
   ]
  },
  {
   "cell_type": "markdown",
   "id": "4751208e",
   "metadata": {},
   "source": [
    "Hence the weights from the input layer into the hidden layer with added \n",
    "virtual neuron with fixed output 1 (for representing thresholds) are:"
   ]
  },
  {
   "cell_type": "code",
   "execution_count": 7,
   "id": "263d5ba5",
   "metadata": {},
   "outputs": [
    {
     "name": "stdout",
     "output_type": "stream",
     "text": [
      "[[ 0.5 -0.5]\n",
      " [ 1.5  0.5]\n",
      " [ 0.   0.5]]\n"
     ]
    }
   ],
   "source": [
    "# note that r_ is not a method of numpy array!\n",
    "w_i_hb = np.r_[w_i_h, b_h.reshape(1,-1)]\n",
    "print(w_i_hb)"
   ]
  },
  {
   "cell_type": "markdown",
   "id": "d37e1278",
   "metadata": {},
   "source": [
    "The weights from the hidden layer into the output layer\n",
    "with added virtual neuron with output 1 are:"
   ]
  },
  {
   "cell_type": "code",
   "execution_count": 8,
   "id": "224a709b",
   "metadata": {},
   "outputs": [
    {
     "name": "stdout",
     "output_type": "stream",
     "text": [
      "[[ 2. ]\n",
      " [-1. ]\n",
      " [-0.5]]\n"
     ]
    }
   ],
   "source": [
    "w_h_ob = np.r_[w_h_o, b_o.reshape(1,-1)]\n",
    "print(w_h_ob)"
   ]
  },
  {
   "cell_type": "markdown",
   "id": "1008e192",
   "metadata": {},
   "source": [
    "A sigmoidal transfer function $$logsig(x) = \\frac{1}{1 + e^{-\\lambda x}}$$ can be implemented as"
   ]
  },
  {
   "cell_type": "code",
   "execution_count": 9,
   "id": "bde96987",
   "metadata": {},
   "outputs": [],
   "source": [
    "def sigmoid(x, lam=1.0):\n",
    "    # sigmoid transfer function\n",
    "    #     sigmoid(x) = 1/(1 + exp{-lam * x)\n",
    "    return 1 / (1 + np.exp(-lam * x))"
   ]
  },
  {
   "cell_type": "markdown",
   "id": "0a68c3f6",
   "metadata": {},
   "source": [
    "This is the sigmoid function with the slope $\\lambda$. The default value for the slope is $\\lambda = 1$."
   ]
  },
  {
   "cell_type": "markdown",
   "id": "fba65358",
   "metadata": {},
   "source": [
    "## Tasks:\n",
    "\n",
    "* *Compute the output of the network for the input patterns `p1` and `p2`.*"
   ]
  },
  {
   "cell_type": "code",
   "execution_count": 10,
   "id": "790b03be",
   "metadata": {},
   "outputs": [],
   "source": [
    "p1 = np.array([-1, 1])\n",
    "p2 = np.array([ 1,-1])"
   ]
  },
  {
   "cell_type": "code",
   "execution_count": 11,
   "id": "5f1d3909",
   "metadata": {},
   "outputs": [],
   "source": [
    "# your code goes here\n",
    "o1 = \n"
   ]
  },
  {
   "cell_type": "markdown",
   "id": "e0317487",
   "metadata": {},
   "source": [
    "* *Compute the utput of the network for the whole training set `X` consisting of the patterns `p1` and `p2`.*"
   ]
  },
  {
   "cell_type": "code",
   "execution_count": 54,
   "id": "564ae8d5",
   "metadata": {},
   "outputs": [
    {
     "name": "stdout",
     "output_type": "stream",
     "text": [
      "X\n",
      " [[-1  1]\n",
      " [ 1 -1]]\n"
     ]
    }
   ],
   "source": [
    "# your code goes here\n",
    "X = np.vstack((p1,p2))\n",
    "print(\"X\\n\",X)\n",
    "y_1 = np.append(X, np.ones((len(X), 1)), axis=1)"
   ]
  },
  {
   "cell_type": "code",
   "execution_count": 55,
   "id": "d3fbc344",
   "metadata": {},
   "outputs": [
    {
     "name": "stdout",
     "output_type": "stream",
     "text": [
      "[[0.73105858 0.81757448]\n",
      " [0.26894142 0.37754067]]\n"
     ]
    }
   ],
   "source": [
    "y_h = sigmoid(y_1 @ w_i_hb)\n",
    "print(y_h)\n",
    "y_o = sigmoid(np.append(y_h, np.ones((len(y_h), 1)), axis=1) @ w_h_ob)"
   ]
  },
  {
   "cell_type": "markdown",
   "id": "521f9ca6",
   "metadata": {},
   "source": [
    "The input pattern  `p1` is a training vector with the desired\n",
    "output 0.9 and the input pattern `p2` is also a trianing pattern with the desired output 0.8. Hence the desired outputs we can store in an array, where row `d[i]` are the desired output for the pattern `X[i]`."
   ]
  },
  {
   "cell_type": "code",
   "execution_count": 13,
   "id": "bf4fe240",
   "metadata": {},
   "outputs": [
    {
     "name": "stdout",
     "output_type": "stream",
     "text": [
      "d\n",
      " [[0.9]\n",
      " [0.8]]\n"
     ]
    }
   ],
   "source": [
    "d = np.array([[0.9],[0.8]])\n",
    "print(\"d\\n\",d)"
   ]
  },
  {
   "cell_type": "markdown",
   "id": "d9bc62e7",
   "metadata": {},
   "source": [
    "* *What is the error of the network on each of the patterns `p1` and `p2`?*"
   ]
  },
  {
   "cell_type": "code",
   "execution_count": 29,
   "id": "3e312944",
   "metadata": {},
   "outputs": [
    {
     "data": {
      "text/plain": [
       "array([[0.06622147],\n",
       "       [0.07376925]])"
      ]
     },
     "execution_count": 29,
     "metadata": {},
     "output_type": "execute_result"
    }
   ],
   "source": [
    "# your code goes here\n",
    "E = 0.5 * (y_o - d) ** 2\n",
    "E"
   ]
  },
  {
   "cell_type": "markdown",
   "id": "dd99f8bd",
   "metadata": {},
   "source": [
    "* *What is the mean squared error (MSE) of the network on the whole training set?*"
   ]
  },
  {
   "cell_type": "code",
   "execution_count": 15,
   "id": "20dd206e",
   "metadata": {},
   "outputs": [],
   "source": [
    "# your code goes here\n",
    "MSE = E.mean()\n"
   ]
  },
  {
   "cell_type": "markdown",
   "id": "06b9b6a0",
   "metadata": {},
   "source": [
    "* *How will change the weights of the network after one step of the\n",
    "  backpropagation learning algorithm (without momentum) with the training pattern `p1`\n",
    "  with the learning rate $\\alpha = 0.2$?*"
   ]
  },
  {
   "cell_type": "code",
   "execution_count": 31,
   "id": "d8dc5226",
   "metadata": {},
   "outputs": [],
   "source": [
    "lam = 1.0\n",
    "alpha = 0.2"
   ]
  },
  {
   "cell_type": "code",
   "execution_count": 32,
   "id": "4c02be15",
   "metadata": {},
   "outputs": [
    {
     "data": {
      "text/plain": [
       "array([0.09050822])"
      ]
     },
     "execution_count": 32,
     "metadata": {},
     "output_type": "execute_result"
    }
   ],
   "source": [
    "delta_o = (d[0] - y_o[0]) * lam * y_o[0] * (1 - y_o[0])\n",
    "delta_o"
   ]
  },
  {
   "cell_type": "code",
   "execution_count": 40,
   "id": "2ffa1dcd",
   "metadata": {},
   "outputs": [
    {
     "name": "stdout",
     "output_type": "stream",
     "text": [
      "[[ 2. ]\n",
      " [-1. ]\n",
      " [-0.5]]\n"
     ]
    },
    {
     "data": {
      "text/plain": [
       "array([0.01323336, 0.01479944, 0.01810164])"
      ]
     },
     "execution_count": 40,
     "metadata": {},
     "output_type": "execute_result"
    }
   ],
   "source": [
    "print(w_h_ob)\n",
    "alpha * delta_o * np.append(y_h[0], 1)"
   ]
  },
  {
   "cell_type": "code",
   "execution_count": 42,
   "id": "62d921c0",
   "metadata": {},
   "outputs": [
    {
     "data": {
      "text/plain": [
       "array([[ 2.01323336],\n",
       "       [-0.98520056],\n",
       "       [-0.48189836]])"
      ]
     },
     "execution_count": 42,
     "metadata": {},
     "output_type": "execute_result"
    }
   ],
   "source": [
    "w_h_ob1 = w_h_ob + (alpha * delta_o * np.append(y_h[0], 1)).reshape(-1, 1)\n",
    "w_h_ob1"
   ]
  },
  {
   "cell_type": "code",
   "execution_count": 52,
   "id": "89683c90",
   "metadata": {},
   "outputs": [
    {
     "data": {
      "text/plain": [
       "array([ 0.03558999, -0.01349898, -0.        ])"
      ]
     },
     "execution_count": 52,
     "metadata": {},
     "output_type": "execute_result"
    }
   ],
   "source": [
    "delta_h = delta_o @ w_h_ob.T * lam * np.append(y_h[0], 1) * (1-np.append(y_h[0], 1))\n",
    "delta_h"
   ]
  },
  {
   "cell_type": "code",
   "execution_count": 65,
   "id": "128d7d2c",
   "metadata": {},
   "outputs": [
    {
     "data": {
      "text/plain": [
       "array([[ 0.492882 , -0.4973002],\n",
       "       [ 1.507118 ,  0.4973002],\n",
       "       [ 0.007118 ,  0.4973002]])"
      ]
     },
     "execution_count": 65,
     "metadata": {},
     "output_type": "execute_result"
    }
   ],
   "source": [
    "w_i_hb1 = w_i_hb + alpha * y_1[0][:, np.newaxis] @ delta_h[:-1][np.newaxis, :]\n",
    "w_i_hb1"
   ]
  },
  {
   "cell_type": "markdown",
   "id": "4e820beb",
   "metadata": {},
   "source": [
    "** for `p2`**"
   ]
  },
  {
   "cell_type": "code",
   "execution_count": 17,
   "id": "3ba1693e",
   "metadata": {},
   "outputs": [],
   "source": [
    "# your code goes here\n",
    "\n"
   ]
  },
  {
   "cell_type": "markdown",
   "id": "90d8279e",
   "metadata": {},
   "source": [
    "   \n",
    "* How will change the output of the network for input `p1` after the first \n",
    "  iteration of the backpropagation algorithm?*"
   ]
  },
  {
   "cell_type": "code",
   "execution_count": 18,
   "id": "4bf25f80",
   "metadata": {},
   "outputs": [],
   "source": [
    "# your code goes here\n",
    "\n"
   ]
  },
  {
   "cell_type": "markdown",
   "id": "18c63780",
   "metadata": {},
   "source": [
    "* *Estimate the number of iterations over the pattern `p1` necessary to obtain*"
   ]
  },
  {
   "cell_type": "code",
   "execution_count": 66,
   "id": "1d12bf76",
   "metadata": {},
   "outputs": [
    {
     "data": {
      "text/plain": [
       "array([[0.54835394],\n",
       "       [0.42168797]])"
      ]
     },
     "execution_count": 66,
     "metadata": {},
     "output_type": "execute_result"
    }
   ],
   "source": [
    "y_h1 = sigmoid(y_1 @ w_i_hb1)\n",
    "y_o= sigmoid(np.append(y_h1, np.ones((X.shape[0], 1)), axis=1) @ w_h_ob1)\n",
    "y_o"
   ]
  },
  {
   "cell_type": "code",
   "execution_count": null,
   "id": "d11b77bd",
   "metadata": {},
   "outputs": [],
   "source": []
  }
 ],
 "metadata": {
  "kernelspec": {
   "display_name": "Python 3.10.8 64-bit",
   "language": "python",
   "name": "python3"
  },
  "language_info": {
   "codemirror_mode": {
    "name": "ipython",
    "version": 3
   },
   "file_extension": ".py",
   "mimetype": "text/x-python",
   "name": "python",
   "nbconvert_exporter": "python",
   "pygments_lexer": "ipython3",
   "version": "3.10.8"
  },
  "vscode": {
   "interpreter": {
    "hash": "26de051ba29f2982a8de78e945f0abaf191376122a1563185a90213a26c5da77"
   }
  }
 },
 "nbformat": 4,
 "nbformat_minor": 5
}
