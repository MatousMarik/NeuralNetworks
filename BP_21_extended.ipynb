{
 "cells": [
  {
   "cell_type": "code",
   "execution_count": 2,
   "id": "3d214c46",
   "metadata": {},
   "outputs": [],
   "source": [
    "import numpy as np\n",
    "import matplotlib.pyplot as plt"
   ]
  },
  {
   "cell_type": "markdown",
   "id": "b4e75b11",
   "metadata": {},
   "source": [
    "# Multi-Layered Neural Networks and the Backpropagation Algorithm\n",
    "\n",
    "For easy computing potential on a neuron, the weights of incoming\n",
    "synapses of the neuron are stored as a row vector.\n",
    " \n",
    "Let us take a neural network with the topology [2,2,1], i.e., the network\n",
    "has 2 input neurons, 2 hidden neurons in a single hidden layer, and one\n",
    "output neuron. Let the weights of synapses between the input and the\n",
    "hidden layer be in the following matrix:"
   ]
  },
  {
   "cell_type": "code",
   "execution_count": 3,
   "id": "2206384d",
   "metadata": {},
   "outputs": [],
   "source": [
    "w_i_h = np.array([[0.5, -0.5],\n",
    "                  [1.5,  0.5]])"
   ]
  },
  {
   "cell_type": "markdown",
   "id": "297e2700",
   "metadata": {},
   "source": [
    "`w_i_h[i,j]` is the weight of the synapse from the input `i` into the\n",
    "hidden neuron `j`. I.e., each row of the weight matrix corresponds to\n",
    "the weights of synapses leading **from** one neuron!\n",
    "\n",
    "Let the synaptic weights between the hidden and the output layer\n",
    "be in the matrix:"
   ]
  },
  {
   "cell_type": "code",
   "execution_count": 4,
   "id": "b9b7184f",
   "metadata": {},
   "outputs": [],
   "source": [
    "w_h_o = np.array([[2.0], [-1.0]])"
   ]
  },
  {
   "cell_type": "markdown",
   "id": "d441e131",
   "metadata": {},
   "source": [
    "`w_h_o[i,0]` is the weight of the connection from the hidden neuron `i` \n",
    "to the output neuron. Thresholds of the hidden neurons are in the vector:"
   ]
  },
  {
   "cell_type": "code",
   "execution_count": 5,
   "id": "d0dc03b7",
   "metadata": {},
   "outputs": [],
   "source": [
    " b_h = np.array([0, 0.5])"
   ]
  },
  {
   "cell_type": "markdown",
   "id": "fd2f5548",
   "metadata": {},
   "source": [
    "and the threshold of the outout neuron is:"
   ]
  },
  {
   "cell_type": "code",
   "execution_count": 6,
   "id": "e815b788",
   "metadata": {},
   "outputs": [],
   "source": [
    "b_o = np.array([-0.5])"
   ]
  },
  {
   "cell_type": "markdown",
   "id": "8feffc64",
   "metadata": {},
   "source": [
    "Hence the weights from the input layer into the hidden layer with added \n",
    "virtual neuron with fixed output 1 (for representing thresholds) are:"
   ]
  },
  {
   "cell_type": "code",
   "execution_count": 7,
   "id": "4f846a8d",
   "metadata": {},
   "outputs": [],
   "source": [
    "# note that r_ is not a method of numpy array!\n",
    "w_i_hb = np.r_[w_i_h, b_h.reshape(1,-1)]"
   ]
  },
  {
   "cell_type": "markdown",
   "id": "2e41cdc1",
   "metadata": {},
   "source": [
    "The weights from the hidden layer into the output layer\n",
    "with added virtual neuron with output 1 are:"
   ]
  },
  {
   "cell_type": "code",
   "execution_count": 8,
   "id": "fa12d530",
   "metadata": {},
   "outputs": [
    {
     "name": "stdout",
     "output_type": "stream",
     "text": [
      "[[ 2. ]\n",
      " [-1. ]\n",
      " [-0.5]]\n"
     ]
    }
   ],
   "source": [
    "w_h_ob = np.r_[w_h_o, b_o.reshape(1,-1)]\n",
    "print(w_h_ob)"
   ]
  },
  {
   "cell_type": "markdown",
   "id": "55e7f073",
   "metadata": {},
   "source": [
    "A sigmoidal transfer function $$logsig(x) = \\frac{1}{1 + e^{-\\lambda x}}$$ can be implemented as"
   ]
  },
  {
   "cell_type": "code",
   "execution_count": 9,
   "id": "8adddfdb",
   "metadata": {},
   "outputs": [],
   "source": [
    "def sigmoid(x, lam=1.0):\n",
    "    # sigmoid transfer function\n",
    "    #     sigmoid(x) = 1/(1 + exp{-lam * x)\n",
    "    return 1 / (1 + np.exp(-lam * x))"
   ]
  },
  {
   "cell_type": "markdown",
   "id": "dd124af1",
   "metadata": {},
   "source": [
    "This is the sigmoid function with the slope $\\lambda$. The default value for the slope is $\\lambda = 1$."
   ]
  },
  {
   "cell_type": "markdown",
   "id": "5cc4114e",
   "metadata": {},
   "source": [
    "## Tasks:\n",
    "\n",
    "* *Compute the output of the network for the input patterns `p1` and `p2`.*"
   ]
  },
  {
   "cell_type": "code",
   "execution_count": 10,
   "id": "abcc20c8",
   "metadata": {},
   "outputs": [],
   "source": [
    "p1 = np.array([-1, 1])\n",
    "p2 = np.array([ 1,-1])"
   ]
  },
  {
   "cell_type": "code",
   "execution_count": 113,
   "id": "e899ca57",
   "metadata": {},
   "outputs": [
    {
     "name": "stdout",
     "output_type": "stream",
     "text": [
      "w_i_hb\n",
      " [[ 0.5 -0.5]\n",
      " [ 1.5  0.5]\n",
      " [ 0.   0.5]]\n",
      "p1\n",
      "p1 extended\n",
      " [-1  1  1]\n",
      "0.7310585786300049\n",
      "0.8175744761936437\n",
      "y_h\n",
      " [0.73105858 0.81757448]\n",
      "y_o\n",
      " [0.53607289]\n",
      "p2\n",
      "0.2689414213699951\n",
      "0.3775406687981454\n",
      "y_h\n",
      " [0.26894142 0.37754067]\n",
      "y_o\n",
      " [0.4158926]\n"
     ]
    }
   ],
   "source": [
    "# your code goes here\n",
    "print(\"w_i_hb\\n\", w_i_hb)\n",
    "print(\"p1\")\n",
    "print(\"p1 extended\\n\",np.r_[p1, 1])\n",
    "print(sigmoid(np.dot(np.r_[p1, 1], w_i_hb[:,0])))    # outputs on the first hidden neuron\n",
    "print(sigmoid(np.dot(np.r_[p1, 1], w_i_hb[:,1])))    # outputs on the second hidden neuron\n",
    "\n",
    "y_h = sigmoid(np.dot(np.r_[p1, 1], w_i_hb))    # outputs on the hidden layer\n",
    "print(\"y_h\\n\",y_h)\n",
    "y_o = sigmoid(np.dot(np.r_[y_h, 1], w_h_ob))\n",
    "print(\"y_o\\n\",y_o)\n",
    "print(\"p2\")\n",
    "print(sigmoid(np.dot(np.r_[p2, 1], w_i_hb[:,0])))    # outputs on the hidden layer\n",
    "print(sigmoid(np.dot(np.r_[p2, 1], w_i_hb[:,1])))    # outputs on the hidden layer\n",
    "\n",
    "y_h = sigmoid(np.dot(np.r_[p2, 1], w_i_hb))    # outputs on the hidden layer\n",
    "print(\"y_h\\n\",y_h)\n",
    "y_o = sigmoid(np.dot(np.r_[y_h, 1], w_h_ob))\n",
    "print(\"y_o\\n\",y_o)\n"
   ]
  },
  {
   "cell_type": "markdown",
   "id": "34c084f0",
   "metadata": {},
   "source": [
    "* *Compute the output of the network for the whole training set `X` consisting of the patterns `p1` and `p2`.*"
   ]
  },
  {
   "cell_type": "code",
   "execution_count": 119,
   "id": "1d497a8b",
   "metadata": {},
   "outputs": [
    {
     "name": "stdout",
     "output_type": "stream",
     "text": [
      "X\n",
      " [[-1  1]\n",
      " [ 1 -1]]\n",
      "[[-1.  1.  1.]\n",
      " [ 1. -1.  1.]]\n",
      "y_h\n",
      " [[0.73105858 0.81757448]\n",
      " [0.26894142 0.37754067]]\n",
      "y_o\n",
      " [[0.53607289]\n",
      " [0.4158926 ]]\n"
     ]
    }
   ],
   "source": [
    "X = np.vstack((p1,p2))\n",
    "print(\"X\\n\",X)\n",
    "print(np.c_[X, np.ones(X.shape[0])])\n",
    "# your code goes here\n",
    "y_h = sigmoid(np.dot(np.c_[X, np.ones(X.shape[0])], w_i_hb))\n",
    "print(\"y_h\\n\",y_h)\n",
    "y_o = sigmoid(np.dot(np.c_[y_h, np.ones(y_h.shape[1])], w_h_ob))\n",
    "print(\"y_o\\n\",y_o)"
   ]
  },
  {
   "cell_type": "markdown",
   "id": "a1d443a2",
   "metadata": {},
   "source": [
    "The input pattern  `p1` is a training vector with the desired\n",
    "output 0.9 and the input pattern `p2` is also a trianing pattern with the desired output 0.8. Hence the desired outputs we can store in an array, where row `d[i]` are the desired output for the pattern `X[i]`."
   ]
  },
  {
   "cell_type": "code",
   "execution_count": 120,
   "id": "abd312bb",
   "metadata": {},
   "outputs": [
    {
     "name": "stdout",
     "output_type": "stream",
     "text": [
      "d\n",
      " [[0.9]\n",
      " [0.9]]\n"
     ]
    }
   ],
   "source": [
    "d = np.array([[0.9],[0.9]])\n",
    "print(\"d\\n\",d)"
   ]
  },
  {
   "cell_type": "markdown",
   "id": "1b45fec6",
   "metadata": {},
   "source": [
    "* *What is the error of the network on each of the patterns `p1` and `p2`?*"
   ]
  },
  {
   "cell_type": "code",
   "execution_count": 17,
   "id": "937800e6",
   "metadata": {},
   "outputs": [
    {
     "name": "stdout",
     "output_type": "stream",
     "text": [
      "[[0.06622147]\n",
      " [0.07376925]]\n"
     ]
    }
   ],
   "source": [
    "# your code goes here\n",
    "...\n",
    "print(E)"
   ]
  },
  {
   "cell_type": "markdown",
   "id": "6d8d2ab4",
   "metadata": {},
   "source": [
    "* *What is the mean squared error (MSE) of the network on the whole training set?*"
   ]
  },
  {
   "cell_type": "code",
   "execution_count": 18,
   "id": "287c1c77",
   "metadata": {},
   "outputs": [
    {
     "name": "stdout",
     "output_type": "stream",
     "text": [
      "0.06999535995430395\n"
     ]
    }
   ],
   "source": [
    "# your code goes here\n",
    "...\n",
    "print(MSE)"
   ]
  },
  {
   "cell_type": "markdown",
   "id": "37c80393",
   "metadata": {},
   "source": [
    "* *How will change the weights of the network after one step of the\n",
    "  backpropagation learning algorithm (without momentum) with the training pattern `p1`\n",
    "  with the learning rate $\\alpha = 0.2$?*"
   ]
  },
  {
   "cell_type": "code",
   "execution_count": 19,
   "id": "2a0643d2",
   "metadata": {},
   "outputs": [],
   "source": [
    "alpha = 0.2"
   ]
  },
  {
   "cell_type": "code",
   "execution_count": 121,
   "id": "36355ab0",
   "metadata": {},
   "outputs": [],
   "source": [
    "# your code goes here\n",
    "\n",
    "# delta_o 0.09050822\n",
    "# w_h_ob1\n",
    "# [[ 2.01323336]\n",
    "# [-0.98520056]\n",
    "# [-0.48189836]]\n",
    "#\n",
    "# delta_h\n",
    "# 0.03558999 -0.01349898 -0.\n",
    "#\n",
    "# w_i_hb1\n",
    "# [[ 0.492882  -0.4973002]\n",
    "# [ 1.507118   0.4973002]\n",
    "# [ 0.007118   0.4973002]]\n"
   ]
  },
  {
   "cell_type": "markdown",
   "id": "587ef301",
   "metadata": {},
   "source": [
    "   \n",
    "* How will change the output of the network for input `p1` after the first \n",
    "  iteration of the backpropagation algorithm?*"
   ]
  },
  {
   "cell_type": "code",
   "execution_count": null,
   "id": "85380158",
   "metadata": {},
   "outputs": [],
   "source": [
    "# your code goes here\n",
    "# y_h1\n",
    "#  0.73523626 0.81636337\n",
    "# y_o1\n",
    "#  0.5483539\n",
    "\n",
    "...\n",
    "print(\"y_h1\\n\", y_h1)\n",
    "print(\"y_o1\\n\", y_o1)"
   ]
  },
  {
   "cell_type": "markdown",
   "id": "b15b7267",
   "metadata": {},
   "source": [
    "* *Estimate the number of iterations over the pattern `p1` necessary to obtain*"
   ]
  },
  {
   "cell_type": "code",
   "execution_count": 53,
   "id": "35111eb2",
   "metadata": {},
   "outputs": [],
   "source": [
    "alpha = 0.2\n",
    "lam = 1.0\n",
    "\n"
   ]
  },
  {
   "cell_type": "markdown",
   "id": "87619a07",
   "metadata": {},
   "source": [
    "**Notation:**\n",
    "\n",
    "Using `numpy` for working with vectors and matrices when we train a neural network has some problems:\n",
    "* Input: input patterns are stored as rows in a 2D matrix $X$, but one input pattern is a 1D vector.\n",
    "* Output, desired output: output patterns are stored as rows in a 2D matrix $Y$, however one output pattern is a 1D vector.\n",
    "* Output of hidden neurons: can be stored in rows of a 2D matrix if we compute output for more than one pattern, but it is a 1D vector if we compute with one input vector.\n",
    "\n",
    "A possible solution: is to *store vectors as two-dimensional arrays*:\n",
    "* Then we can distinguish row and column vectors.\n",
    "* If we work with a single vector, we will convert it into a row vector."
   ]
  },
  {
   "cell_type": "code",
   "execution_count": 106,
   "id": "51c510f5",
   "metadata": {},
   "outputs": [
    {
     "name": "stdout",
     "output_type": "stream",
     "text": [
      "p1_2d\n",
      " [[-1  1]]\n"
     ]
    }
   ],
   "source": [
    "p1_2d = p1.reshape(1,-1)\n",
    "print(\"p1_2d\\n\",p1_2d)"
   ]
  },
  {
   "cell_type": "code",
   "execution_count": 122,
   "id": "abaf2264",
   "metadata": {},
   "outputs": [
    {
     "name": "stdout",
     "output_type": "stream",
     "text": [
      "y_h\n",
      " [[0.73105858 0.81757448]]\n"
     ]
    }
   ],
   "source": [
    "# output of the hidden neurons\n",
    "...\n",
    "print(\"y_h\\n\", y_h)"
   ]
  },
  {
   "cell_type": "code",
   "execution_count": 123,
   "id": "579e25ff",
   "metadata": {},
   "outputs": [
    {
     "name": "stdout",
     "output_type": "stream",
     "text": [
      "y_o\n",
      " [[0.53607289]]\n"
     ]
    }
   ],
   "source": [
    "# output of the network \n",
    "...\n",
    "print(\"y_o\\n\", y_o)"
   ]
  },
  {
   "cell_type": "code",
   "execution_count": 109,
   "id": "cf66f329",
   "metadata": {},
   "outputs": [
    {
     "name": "stdout",
     "output_type": "stream",
     "text": [
      "delta_o\n",
      " [[0.09050822]]\n"
     ]
    }
   ],
   "source": [
    "pat = 0\n",
    "delta_o = (d[pat] - y_o) * lam * y_o * (1 - y_o)\n",
    "print(\"delta_o\\n\", delta_o)"
   ]
  },
  {
   "cell_type": "markdown",
   "id": "474da56e",
   "metadata": {},
   "source": [
    "Note that `delta_o` **is a row vector**? Why?"
   ]
  },
  {
   "cell_type": "code",
   "execution_count": null,
   "id": "1cc8e4e6",
   "metadata": {},
   "outputs": [],
   "source": [
    "print(\"np.c_[y_h,[[1]]]\\n\", np.c_[y_h,[[1]]])\n",
    "\n",
    "w_h_ob1 = w_h_ob + ...\n",
    "print(\"w_h_ob1\\n\", w_h_ob1)"
   ]
  },
  {
   "cell_type": "code",
   "execution_count": 125,
   "id": "38af34cd",
   "metadata": {},
   "outputs": [
    {
     "name": "stdout",
     "output_type": "stream",
     "text": [
      "delta_h\n",
      " [[ 0.04624401 -0.01753996 -0.        ]]\n"
     ]
    }
   ],
   "source": [
    "delta_h = ...\n",
    "print(\"delta_h\\n\", delta_h)"
   ]
  },
  {
   "cell_type": "code",
   "execution_count": 126,
   "id": "4e4671e5",
   "metadata": {},
   "outputs": [
    {
     "name": "stdout",
     "output_type": "stream",
     "text": [
      "[[ 1]\n",
      " [-1]\n",
      " [ 1]]\n",
      "[[ 0.04624401]\n",
      " [-0.01753996]\n",
      " [-0.        ]]\n",
      "w_i_hb1\n",
      " [[ 0.4907512  -0.49649201]\n",
      " [ 1.5092488   0.49649201]\n",
      " [ 0.0092488   0.49649201]]\n"
     ]
    }
   ],
   "source": [
    "print(np.c_[p2_2d, [[1]]].T)\n",
    "print(delta_h[:2,:].T)\n",
    "w_i_hb1 = w_i_hb + alpha * np.c_[p1_2d, [[1]]].T @ delta_h[:,:2]\n",
    "print(\"w_i_hb1\\n\", w_i_hb1)"
   ]
  },
  {
   "cell_type": "code",
   "execution_count": null,
   "id": "108821c9",
   "metadata": {},
   "outputs": [],
   "source": []
  },
  {
   "cell_type": "code",
   "execution_count": 82,
   "id": "603b11a6",
   "metadata": {},
   "outputs": [
    {
     "name": "stdout",
     "output_type": "stream",
     "text": [
      "p2_2d\n",
      " [[ 1 -1]]\n"
     ]
    }
   ],
   "source": [
    "p2_2d = p2.reshape(1,-1)\n",
    "print(\"p2_2d\\n\",p2_2d)"
   ]
  },
  {
   "cell_type": "code",
   "execution_count": 84,
   "id": "a6d81cde",
   "metadata": {},
   "outputs": [
    {
     "name": "stdout",
     "output_type": "stream",
     "text": [
      "np.r_[p2_2d,[[1]]]\n",
      " [[ 1 -1  1]]\n",
      "w_i_hb\n",
      " [[ 0.5 -0.5]\n",
      " [ 1.5  0.5]\n",
      " [ 0.   0.5]]\n",
      "np.r_[p2_2d,[[1]]] @ w_i_hb\n",
      " [[-1.  -0.5]]\n",
      "y_h\n",
      " [[0.26894142 0.37754067]]\n"
     ]
    }
   ],
   "source": [
    "# output of the hidden neurons\n",
    "print(\"np.r_[p2_2d,[[1]]]\\n\", np.c_[p2_2d,[[1]]])\n",
    "print(\"w_i_hb\\n\", w_i_hb)\n",
    "print(\"np.r_[p2_2d,[[1]]] @ w_i_hb\\n\", np.c_[p2_2d,[[1]]]  @ w_i_hb)\n",
    "y_h = sigmoid(np.c_[p2_2d,[[1]]]  @ w_i_hb)\n",
    "print(\"y_h\\n\", y_h)"
   ]
  },
  {
   "cell_type": "code",
   "execution_count": 85,
   "id": "04e55861",
   "metadata": {},
   "outputs": [
    {
     "name": "stdout",
     "output_type": "stream",
     "text": [
      "y_o\n",
      " [[0.4158926]]\n"
     ]
    }
   ],
   "source": [
    "y_o = sigmoid(np.c_[y_h, [[1]]] @ w_h_ob)\n",
    "print(\"y_o\\n\", y_o)"
   ]
  },
  {
   "cell_type": "code",
   "execution_count": 88,
   "id": "54604183",
   "metadata": {},
   "outputs": [
    {
     "name": "stdout",
     "output_type": "stream",
     "text": [
      "delta_o\n",
      " [[0.11760225]]\n"
     ]
    }
   ],
   "source": [
    "pat = 1\n",
    "delta_o = (d[pat] - y_o) * lam * y_o * (1 - y_o)\n",
    "print(\"delta_o\\n\", delta_o)"
   ]
  },
  {
   "cell_type": "markdown",
   "id": "47030be1",
   "metadata": {},
   "source": [
    "Note that `delta_o` **is a row vector**? Why?"
   ]
  },
  {
   "cell_type": "code",
   "execution_count": 89,
   "id": "84c0d3b0",
   "metadata": {},
   "outputs": [
    {
     "name": "stdout",
     "output_type": "stream",
     "text": [
      "np.c_[y_h,[[1]]]\n",
      " [[0.26894142 0.37754067 1.        ]]\n",
      "w_h_ob1\n",
      " [[ 2.00632562]\n",
      " [-0.99112007]\n",
      " [-0.47647955]]\n"
     ]
    }
   ],
   "source": [
    "print(\"np.c_[y_h,[[1]]]\\n\", np.c_[y_h,[[1]]])\n",
    "\n",
    "w_h_ob1 = w_h_ob + alpha * np.c_[y_h,[[1]]].T @ delta_o\n",
    "print(\"w_h_ob1\\n\", w_h_ob1)"
   ]
  },
  {
   "cell_type": "code",
   "execution_count": 102,
   "id": "f21f088f",
   "metadata": {},
   "outputs": [
    {
     "name": "stdout",
     "output_type": "stream",
     "text": [
      "delta_h\n",
      " [[ 0.04624401 -0.02763696 -0.        ]]\n"
     ]
    }
   ],
   "source": [
    "delta_h = delta_o @ w_h_ob.T * lam * np.c_[y_h,[[1]]] * (1 - np.c_[y_h, [[1]]])\n",
    "print(\"delta_h\\n\", delta_h)"
   ]
  },
  {
   "cell_type": "code",
   "execution_count": 105,
   "id": "d76df817",
   "metadata": {},
   "outputs": [
    {
     "name": "stdout",
     "output_type": "stream",
     "text": [
      "[[ 1]\n",
      " [-1]\n",
      " [ 1]]\n",
      "[[ 0.04624401]\n",
      " [-0.02763696]\n",
      " [-0.        ]]\n",
      "w_i_hb1\n",
      " [[ 0.5092488  -0.50552739]\n",
      " [ 1.4907512   0.50552739]\n",
      " [ 0.0092488   0.49447261]]\n"
     ]
    }
   ],
   "source": [
    "print(np.c_[p2_2d, [[1]]].T)\n",
    "print(delta_h[:2,:].T)\n",
    "w_i_hb1 = w_i_hb + alpha * np.c_[p2_2d, [[1]]].T @ delta_h[:,:2]\n",
    "print(\"w_i_hb1\\n\", w_i_hb1)"
   ]
  },
  {
   "cell_type": "code",
   "execution_count": null,
   "id": "3c6acd3b",
   "metadata": {},
   "outputs": [],
   "source": []
  }
 ],
 "metadata": {
  "kernelspec": {
   "display_name": "Python 3 (ipykernel)",
   "language": "python",
   "name": "python3"
  },
  "language_info": {
   "codemirror_mode": {
    "name": "ipython",
    "version": 3
   },
   "file_extension": ".py",
   "mimetype": "text/x-python",
   "name": "python",
   "nbconvert_exporter": "python",
   "pygments_lexer": "ipython3",
   "version": "3.8.5"
  }
 },
 "nbformat": 4,
 "nbformat_minor": 5
}
