{
  "cells": [
    {
      "cell_type": "markdown",
      "metadata": {
        "id": "view-in-github",
        "colab_type": "text"
      },
      "source": [
        "<a href=\"https://colab.research.google.com/github/MatousMarik/NeuralNetworks/blob/main/Normalization_2021.ipynb\" target=\"_parent\"><img src=\"https://colab.research.google.com/assets/colab-badge.svg\" alt=\"Open In Colab\"/></a>"
      ]
    },
    {
      "cell_type": "markdown",
      "metadata": {
        "id": "Kqg0Po0gWXNu"
      },
      "source": [
        "# Data Normalization\n",
        "\n",
        "We have some source data as a sequence of real values $X = \\{x_1, x_2,\\dots, x_N\\}$. Normalization of $X$ is mapping the data into a suitable range while preserving relations between the components.\n",
        "\n",
        "## Min-max normalization onto an interval $\\langle A,B \\rangle$\n",
        "\n",
        "Implement a function `mmscale_list(x, A=0, B=1)` that maps an arbitrary input vector `x` linearly onto the interval $\\langle A,B \\rangle$. Usually we use min-max normalization onto the interval $\\langle 0, 1 \\rangle$ or $\\langle -1, 1 \\rangle$. For example\n",
        "\n",
        "    >>> mmscale_list([0.12, 3, -123],-1,1)\n",
        "    [0.9542857142857144, 1.0, -1.0]\n",
        "    \n",
        "    >>> mmscale_list([0.12, 3, -123],0,1)\n",
        "    [0.9771428571428572, 1.0, 0.0]"
      ]
    },
    {
      "cell_type": "code",
      "execution_count": 2,
      "metadata": {
        "id": "cMj1Y4TjWXN1"
      },
      "outputs": [],
      "source": [
        "import numpy as np\n",
        "import matplotlib.pyplot as plt"
      ]
    },
    {
      "cell_type": "code",
      "execution_count": 3,
      "metadata": {
        "colab": {
          "base_uri": "https://localhost:8080/"
        },
        "id": "tQVIK1wxWXN4",
        "outputId": "d8b40e57-31ea-4245-d6a9-a177dfbf21d5"
      },
      "outputs": [
        {
          "output_type": "execute_result",
          "data": {
            "text/plain": [
              "array([ 0.95428571,  1.        , -1.        ])"
            ]
          },
          "metadata": {},
          "execution_count": 3
        }
      ],
      "source": [
        "def mmscale_list(x, A=0, B=1):\n",
        "    # x is a np array of floats\n",
        "    # returns a np array with values maped linearly into the interval <A,B>\n",
        "    x = np.array(x)\n",
        "    assert A != B\n",
        "    if A > B:\n",
        "        A, B = B, A\n",
        "    mi, ma = min(x), max(x)\n",
        "    if mi == ma:\n",
        "        return np.full((len(x)), (A + B) / 2)\n",
        "    dif = ma - mi\n",
        "    interval_len = B - A\n",
        "    return (x - mi)/dif * interval_len + A\n",
        "\n",
        "mmscale_list([0.12, 3, -123],-1,1)"
      ]
    },
    {
      "cell_type": "markdown",
      "metadata": {
        "id": "7qN2iuprWXN6"
      },
      "source": [
        "Using the `matplotlib` depict in a single plot `x` and `mmscale_list(x,A,B)` –- e.g. with `x` on the horizontal axis and `mmscale_list(x,A,B)` on the vertical axis."
      ]
    },
    {
      "cell_type": "code",
      "execution_count": 4,
      "metadata": {
        "colab": {
          "base_uri": "https://localhost:8080/",
          "height": 282
        },
        "id": "dCI5M8xCWXN8",
        "outputId": "d1b9a898-1bfb-4ab9-8404-4248a80a8f75"
      },
      "outputs": [
        {
          "output_type": "execute_result",
          "data": {
            "text/plain": [
              "<matplotlib.collections.PathCollection at 0x7faca263a290>"
            ]
          },
          "metadata": {},
          "execution_count": 4
        },
        {
          "output_type": "display_data",
          "data": {
            "text/plain": [
              "<Figure size 432x288 with 1 Axes>"
            ],
            "image/png": "[encoded data removed]"
          },
          "metadata": {
            "needs_background": "light"
          }
        }
      ],
      "source": [
        "X = np.array([0.12, 3, -123])\n",
        "A, B = -1, 1\n",
        "plt.scatter(X, mmscale_list(X, A, B))"
      ]
    },
    {
      "cell_type": "markdown",
      "metadata": {
        "id": "7G9WYtTwWXN9"
      },
      "source": [
        "Implement another version of min-max normalization `mmscale` that accepts input data in a numpy array. Each row of an two-dimensional input array `X` is one observation. A column of `X` is the value of an attribute for all observations. Therefore, the normalization is performed **column-wise**."
      ]
    },
    {
      "cell_type": "code",
      "execution_count": 17,
      "metadata": {
        "colab": {
          "base_uri": "https://localhost:8080/"
        },
        "id": "wrrWLEStWXOA",
        "outputId": "8a4ef6cc-72c1-4c2f-e3a3-15bea330429e"
      },
      "outputs": [
        {
          "output_type": "stream",
          "name": "stdout",
          "text": [
            "[[ 1.20e-01  2.00e+00]\n",
            " [ 3.00e+00  5.00e+00]\n",
            " [-1.23e+02  7.00e+00]]\n"
          ]
        }
      ],
      "source": [
        "X = np.array([[0.12, 2], [3, 5], [-123, 7]])\n",
        "print(X)"
      ]
    },
    {
      "cell_type": "code",
      "execution_count": 10,
      "metadata": {
        "colab": {
          "base_uri": "https://localhost:8080/"
        },
        "id": "Su3n16DIWXOB",
        "outputId": "990c889f-27ec-4f31-f4be-8039b63bf5a0"
      },
      "outputs": [
        {
          "output_type": "execute_result",
          "data": {
            "text/plain": [
              "array([[ 0.95428571, -1.        ],\n",
              "       [ 1.        ,  1.        ],\n",
              "       [-1.        ,  0.95428571]])"
            ]
          },
          "metadata": {},
          "execution_count": 10
        }
      ],
      "source": [
        "def mmscale(X, A=0, B=1):\n",
        "    # X is a two-dimensional numpy array of floats\n",
        "    # returns a numpy array with values from X maped linearly into the interval <A,B>\n",
        "    X = np.array(X)\n",
        "    return np.apply_along_axis(mmscale_list, 0, X, A=A, B=B)\n",
        "    \n",
        "\n",
        "mmscale(X, 0, 10)"
      ]
    },
    {
      "cell_type": "markdown",
      "metadata": {
        "id": "Y2Y8KhN0WXOE"
      },
      "source": [
        "However, we also must be able \n",
        "1. to apply the same transformation on new data, and\n",
        "2. to compute the inverse trasformation. \n",
        "Implement another version of `mmscale` that returns not only the transformed data, but also parameters used within the normalization."
      ]
    },
    {
      "cell_type": "code",
      "source": [
        "np.set_printoptions(suppress=True)"
      ],
      "metadata": {
        "id": "tmbEekJfPxlv"
      },
      "execution_count": 22,
      "outputs": []
    },
    {
      "cell_type": "code",
      "execution_count": 34,
      "metadata": {
        "id": "43gjjdrGWXOG"
      },
      "outputs": [],
      "source": [
        "def mmscale(X, A=0, B=1):\n",
        "    # X is a two-dimensional numpy array of floats\n",
        "    # returns a tuple containing \n",
        "    #   * numpy array with values from X maped linearly into the interval <A,B>\n",
        "    #   * numpy array with parameters of the transformation\n",
        "    assert A != B\n",
        "    X = np.array(X)\n",
        "    if A > B:\n",
        "        A, B = B, A\n",
        "    mi, ma = np.min(X, axis=0), np.max(X, axis=0)\n",
        "    dif = ma - mi\n",
        "    interval_len = B - A\n",
        "    return np.where(\n",
        "        dif[np.newaxis, :], \n",
        "        (X - mi[np.newaxis, :])/dif[dif != 0] * interval_len + A, \n",
        "        (A + B) / 2\n",
        "    ), (mi, ma)\n",
        "    "
      ]
    },
    {
      "cell_type": "code",
      "execution_count": 35,
      "metadata": {
        "colab": {
          "base_uri": "https://localhost:8080/"
        },
        "id": "NCB2pb8YWXOI",
        "outputId": "1837a3b8-df63-4357-e289-a070dd4ec1c0"
      },
      "outputs": [
        {
          "output_type": "stream",
          "name": "stdout",
          "text": [
            "Scaled data:\n",
            " [[ 9.77142857  0.        ]\n",
            " [10.          6.        ]\n",
            " [ 0.         10.        ]]\n"
          ]
        }
      ],
      "source": [
        "(X_norm, params) = mmscale(X, 0, 10)\n",
        "print('Scaled data:\\n',X_norm)"
      ]
    },
    {
      "cell_type": "code",
      "execution_count": 36,
      "metadata": {
        "id": "O2C8XageWXOK"
      },
      "outputs": [],
      "source": [
        "def mmscale_apply(X, params):\n",
        "    # apply min-max normalization according to the parameters in the array param\n",
        "    As, Bs = params\n",
        "    mi, ma = np.min(X, axis=0), np.max(X, axis=0)\n",
        "    dif = ma - mi\n",
        "    interval_len = Bs - As\n",
        "    return (X - mi[np.newaxis, :])/dif * interval_len + As"
      ]
    },
    {
      "cell_type": "code",
      "execution_count": 40,
      "metadata": {
        "colab": {
          "base_uri": "https://localhost:8080/"
        },
        "id": "JYql5s94WXOL",
        "outputId": "e588ddc7-8ade-4a89-80f8-f186daa6ad24"
      },
      "outputs": [
        {
          "output_type": "stream",
          "name": "stdout",
          "text": [
            "[[  -0.70198273    1.34182915]\n",
            " [   2.70736305    5.12158421]\n",
            " [-122.36192578    9.63598136]]\n",
            "Y normalized:\n",
            " [[  -0.43471665    2.        ]\n",
            " [   3.            4.27856624]\n",
            " [-123.            7.        ]]\n"
          ]
        }
      ],
      "source": [
        "Y = X + np.random.standard_normal(size=X.shape)\n",
        "\n",
        "Y_norm = mmscale_apply(Y, params)\n",
        "print(\"Y normalized:\\n\", Y_norm)"
      ]
    },
    {
      "cell_type": "code",
      "execution_count": 39,
      "metadata": {
        "colab": {
          "base_uri": "https://localhost:8080/"
        },
        "id": "ZIdi3GNzWXON",
        "outputId": "fa395397-e586-43c9-8509-4225d0d09e16"
      },
      "outputs": [
        {
          "output_type": "stream",
          "name": "stdout",
          "text": [
            "[[  -0.7957001    2.       ]\n",
            " [   3.           7.       ]\n",
            " [-123.           6.5562749]]\n"
          ]
        }
      ],
      "source": [
        "def mmscale_inverse(X, params):\n",
        "    # compute transform inverse to the min-max scaling with parameters params\n",
        "    return mmscale_apply(X, params)\n",
        "\n",
        "Y_Norm_inversed = mmscale_inverse(Y_norm, params)"
      ]
    },
    {
      "cell_type": "code",
      "source": [
        "Y = X + np.random.standard_normal(size=X.shape)\n",
        "print(Y)\n",
        "Y, params = mmscale(Y, -1, 1)\n",
        "print(Y)\n",
        "Y = mmscale_inverse(Y, params)\n",
        "print(Y)"
      ],
      "metadata": {
        "colab": {
          "base_uri": "https://localhost:8080/"
        },
        "id": "nVAuuQw3Vbwh",
        "outputId": "58e2963e-8921-44e3-d0c9-75ad1aa2da7b"
      },
      "execution_count": 41,
      "outputs": [
        {
          "output_type": "stream",
          "name": "stdout",
          "text": [
            "[[   0.77760093    1.45113477]\n",
            " [   4.31967327    4.54537612]\n",
            " [-122.45946633    8.78102726]]\n",
            "[[ 0.94412216 -1.        ]\n",
            " [ 1.         -0.15571985]\n",
            " [-1.          1.        ]]\n",
            "[[   0.77760093    1.45113477]\n",
            " [   4.31967327    4.54537612]\n",
            " [-122.45946633    8.78102726]]\n"
          ]
        }
      ]
    },
    {
      "cell_type": "markdown",
      "metadata": {
        "id": "oD9lwrJkWXOO"
      },
      "source": [
        "Are there special cases that should be considered when imlementing/using the above functions?"
      ]
    },
    {
      "cell_type": "markdown",
      "metadata": {
        "id": "Hdq3mfrbWXOO"
      },
      "source": [
        "## Normalization by the standard deviation\n",
        "\n",
        "\n",
        "Standard deviation is the statistical function\n",
        "$$sd(X)= \\sigma_X=\\sqrt{\\frac{\\sum(X-\\bar{X})^2}{N-1}},$$\n",
        "where $\\bar{X}=\\frac{1}{N} \\cdot \\sum_{i=1}^{N} x_i$ is the mean value of $X$.\n",
        "\n",
        "This normalization transforms an input vector linearly in such a way that the mapped data will have mean 0 and deviation 1.\n",
        "\n",
        "Write a function `sdscale(x)` transforming two-dimensional array `x` linearly to an array with the mean 0 and the standard deviation 1 in each of its columns."
      ]
    },
    {
      "cell_type": "code",
      "execution_count": null,
      "metadata": {
        "id": "OmiiNAKwWXOP"
      },
      "outputs": [],
      "source": [
        "def sdscale(X):\n",
        "    # linearly transform two-dimensional array X into an array where each column has mean 0 and standard deviation 1\n",
        "    # returns a tuple containing \n",
        "    #   * numpy array with normized columns\n",
        "    #   * numpy array with parameters of the transformation\n",
        "    pass"
      ]
    },
    {
      "cell_type": "code",
      "execution_count": null,
      "metadata": {
        "id": "MXQ3dTQTWXOR"
      },
      "outputs": [],
      "source": [
        "def sdscale_apply(X, params):\n",
        "    # apply normalization by the standard deviation according to the parameters in the array param\n",
        "    pass"
      ]
    },
    {
      "cell_type": "code",
      "execution_count": null,
      "metadata": {
        "id": "0CR35y4BWXOS"
      },
      "outputs": [],
      "source": [
        "def sdscale_inverse(X, params):\n",
        "    # apply inverse linear transformation on two-dimensional array X according to prameters params"
      ]
    },
    {
      "cell_type": "markdown",
      "metadata": {
        "id": "7SzObA__WXOT"
      },
      "source": [
        "## Sigmoid normalization\n",
        "\n",
        "The sigmoid function (or logistic function), is the real function\n",
        "$$f(x)=\\frac{1}{1+e^{-\\lambda x}},$$ where the real constant $\\lambda$ is called *slope*.\n",
        "The domain of sigmoid is $(-\\infty,+\\infty)$ and its range is  $(0,1)$.\n",
        "\n",
        "We can plot the sigmoid function for $\\lambda=1$ e.g. in the following way"
      ]
    },
    {
      "cell_type": "code",
      "execution_count": null,
      "metadata": {
        "id": "kcSR_JkFWXOT",
        "outputId": "b9011193-d135-46e7-a34c-6d0c0276b8ab"
      },
      "outputs": [
        {
          "data": {
            "text/plain": [
              "[<matplotlib.lines.Line2D at 0x2a976fb6370>]"
            ]
          },
          "execution_count": 21,
          "metadata": {},
          "output_type": "execute_result"
        },
        {
          "data": {
            "image/png": "[encoded data removed]",
            "text/plain": [
              "<Figure size 432x288 with 1 Axes>"
            ]
          },
          "metadata": {
            "needs_background": "light"
          },
          "output_type": "display_data"
        }
      ],
      "source": [
        "x = np.arange(-10,10,0.2)\n",
        "y = 1 / (1 + np.exp(-x))\n",
        "plt.plot(x,y)"
      ]
    },
    {
      "cell_type": "markdown",
      "metadata": {
        "id": "u58Kj00PWXOU"
      },
      "source": [
        "Write corresponding functions \n",
        "* `sigmscale(x,l)`, \n",
        "* `sigmscale_apply(Y)` and \n",
        "*`sigmscale_inverse(X)` \n",
        "that work with transforming entries of a two-dimensional array `X` by the sigmoid function with slope `l`."
      ]
    },
    {
      "cell_type": "markdown",
      "metadata": {
        "id": "wzTHXywKWXOU"
      },
      "source": [
        "Are there functions implementing the above normalization method implemented in `numpy` or `scikit-learn` libraries?"
      ]
    },
    {
      "cell_type": "code",
      "execution_count": null,
      "metadata": {
        "id": "eJpgm0qnWXOV"
      },
      "outputs": [],
      "source": []
    }
  ],
  "metadata": {
    "kernelspec": {
      "display_name": "Python 3 (ipykernel)",
      "language": "python",
      "name": "python3"
    },
    "language_info": {
      "codemirror_mode": {
        "name": "ipython",
        "version": 3
      },
      "file_extension": ".py",
      "mimetype": "text/x-python",
      "name": "python",
      "nbconvert_exporter": "python",
      "pygments_lexer": "ipython3",
      "version": "3.9.5"
    },
    "colab": {
      "provenance": [],
      "collapsed_sections": [],
      "toc_visible": true,
      "include_colab_link": true
    }
  },
  "nbformat": 4,
  "nbformat_minor": 0
}