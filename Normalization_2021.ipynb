{
 "cells": [
  {
   "cell_type": "markdown",
   "metadata": {
    "colab_type": "text",
    "id": "view-in-github"
   },
   "source": [
    "<a href=\"https://colab.research.google.com/github/MatousMarik/NeuralNetworks/blob/main/Normalization_2021.ipynb\" target=\"_parent\"><img src=\"https://colab.research.google.com/assets/colab-badge.svg\" alt=\"Open In Colab\"/></a>"
   ]
  },
  {
   "cell_type": "markdown",
   "metadata": {
    "id": "Kqg0Po0gWXNu"
   },
   "source": [
    "# Data Normalization\n",
    "\n",
    "We have some source data as a sequence of real values $X = \\{x_1, x_2,\\dots, x_N\\}$. Normalization of $X$ is mapping the data into a suitable range while preserving relations between the components.\n",
    "\n",
    "## Min-max normalization onto an interval $\\langle A,B \\rangle$\n",
    "\n",
    "Implement a function `mmscale_list(x, A=0, B=1)` that maps an arbitrary input vector `x` linearly onto the interval $\\langle A,B \\rangle$. Usually we use min-max normalization onto the interval $\\langle 0, 1 \\rangle$ or $\\langle -1, 1 \\rangle$. For example\n",
    "\n",
    "    >>> mmscale_list([0.12, 3, -123],-1,1)\n",
    "    [0.9542857142857144, 1.0, -1.0]\n",
    "    \n",
    "    >>> mmscale_list([0.12, 3, -123],0,1)\n",
    "    [0.9771428571428572, 1.0, 0.0]"
   ]
  },
  {
   "cell_type": "code",
   "execution_count": 1,
   "metadata": {
    "id": "cMj1Y4TjWXN1"
   },
   "outputs": [],
   "source": [
    "import numpy as np\n",
    "import matplotlib.pyplot as plt"
   ]
  },
  {
   "cell_type": "code",
   "execution_count": 2,
   "metadata": {
    "colab": {
     "base_uri": "https://localhost:8080/"
    },
    "id": "tQVIK1wxWXN4",
    "outputId": "d8b40e57-31ea-4245-d6a9-a177dfbf21d5"
   },
   "outputs": [
    {
     "data": {
      "text/plain": [
       "array([ 0.95428571,  1.        , -1.        ])"
      ]
     },
     "execution_count": 2,
     "metadata": {},
     "output_type": "execute_result"
    }
   ],
   "source": [
    "def mmscale_list(x, A=0, B=1):\n",
    "    # x is a np array of floats\n",
    "    # returns a np array with values maped linearly into the interval <A,B>\n",
    "    x = np.array(x)\n",
    "    assert A != B\n",
    "    if A > B:\n",
    "        A, B = B, A\n",
    "    mi, ma = min(x), max(x)\n",
    "    if mi == ma:\n",
    "        return np.full((len(x)), (A + B) / 2)\n",
    "    dif = ma - mi\n",
    "    interval_len = B - A\n",
    "    return (x - mi)/dif * interval_len + A\n",
    "\n",
    "mmscale_list([0.12, 3, -123],-1,1)"
   ]
  },
  {
   "cell_type": "markdown",
   "metadata": {
    "id": "7qN2iuprWXN6"
   },
   "source": [
    "Using the `matplotlib` depict in a single plot `x` and `mmscale_list(x,A,B)` –- e.g. with `x` on the horizontal axis and `mmscale_list(x,A,B)` on the vertical axis."
   ]
  },
  {
   "cell_type": "code",
   "execution_count": 3,
   "metadata": {
    "colab": {
     "base_uri": "https://localhost:8080/",
     "height": 282
    },
    "id": "dCI5M8xCWXN8",
    "outputId": "d1b9a898-1bfb-4ab9-8404-4248a80a8f75"
   },
   "outputs": [
    {
     "data": {
      "text/plain": [
       "<matplotlib.collections.PathCollection at 0x29679ecae80>"
      ]
     },
     "execution_count": 3,
     "metadata": {},
     "output_type": "execute_result"
    },
    {
     "data": {
      "image/png": "[encoded data removed]",
      "text/plain": [
       "<Figure size 640x480 with 1 Axes>"
      ]
     },
     "metadata": {},
     "output_type": "display_data"
    }
   ],
   "source": [
    "X = np.array([0.12, 3, -123])\n",
    "A, B = -1, 1\n",
    "plt.scatter(X, mmscale_list(X, A, B))"
   ]
  },
  {
   "cell_type": "markdown",
   "metadata": {
    "id": "7G9WYtTwWXN9"
   },
   "source": [
    "Implement another version of min-max normalization `mmscale` that accepts input data in a numpy array. Each row of an two-dimensional input array `X` is one observation. A column of `X` is the value of an attribute for all observations. Therefore, the normalization is performed **column-wise**."
   ]
  },
  {
   "cell_type": "code",
   "execution_count": 4,
   "metadata": {
    "colab": {
     "base_uri": "https://localhost:8080/"
    },
    "id": "wrrWLEStWXOA",
    "outputId": "8a4ef6cc-72c1-4c2f-e3a3-15bea330429e"
   },
   "outputs": [
    {
     "name": "stdout",
     "output_type": "stream",
     "text": [
      "[[ 1.20e-01  2.00e+00]\n",
      " [ 3.00e+00  5.00e+00]\n",
      " [-1.23e+02  7.00e+00]]\n"
     ]
    }
   ],
   "source": [
    "X = np.array([[0.12, 2], [3, 5], [-123, 7]])\n",
    "print(X)"
   ]
  },
  {
   "cell_type": "code",
   "execution_count": 5,
   "metadata": {
    "colab": {
     "base_uri": "https://localhost:8080/"
    },
    "id": "Su3n16DIWXOB",
    "outputId": "990c889f-27ec-4f31-f4be-8039b63bf5a0"
   },
   "outputs": [
    {
     "data": {
      "text/plain": [
       "array([[ 9.77142857,  0.        ],\n",
       "       [10.        ,  6.        ],\n",
       "       [ 0.        , 10.        ]])"
      ]
     },
     "execution_count": 5,
     "metadata": {},
     "output_type": "execute_result"
    }
   ],
   "source": [
    "def mmscale(X, A=0, B=1):\n",
    "    # X is a two-dimensional numpy array of floats\n",
    "    # returns a numpy array with values from X maped linearly into the interval <A,B>\n",
    "    X = np.array(X)\n",
    "    return np.apply_along_axis(mmscale_list, 0, X, A=A, B=B)\n",
    "    \n",
    "\n",
    "mmscale(X, 0, 10)"
   ]
  },
  {
   "cell_type": "markdown",
   "metadata": {
    "id": "Y2Y8KhN0WXOE"
   },
   "source": [
    "However, we also must be able \n",
    "1. to apply the same transformation on new data, and\n",
    "2. to compute the inverse trasformation. \n",
    "Implement another version of `mmscale` that returns not only the transformed data, but also parameters used within the normalization."
   ]
  },
  {
   "cell_type": "code",
   "execution_count": 6,
   "metadata": {
    "id": "tmbEekJfPxlv"
   },
   "outputs": [],
   "source": [
    "np.set_printoptions(suppress=True)"
   ]
  },
  {
   "cell_type": "code",
   "execution_count": 7,
   "metadata": {
    "id": "43gjjdrGWXOG"
   },
   "outputs": [],
   "source": [
    "def mmscale(X, A=0, B=1):\n",
    "    # X is a two-dimensional numpy array of floats\n",
    "    # returns a tuple containing \n",
    "    #   * numpy array with values from X maped linearly into the interval <A,B>\n",
    "    #   * numpy array with parameters of the transformation\n",
    "    assert A != B\n",
    "    X = np.array(X)\n",
    "    if A > B:\n",
    "        A, B = B, A\n",
    "    mi, ma = np.min(X, axis=0), np.max(X, axis=0)\n",
    "    dif = ma - mi\n",
    "    interval_len = B - A\n",
    "    return np.where(\n",
    "        dif[np.newaxis, :], \n",
    "        (X - mi[np.newaxis, :])/dif[dif != 0] * interval_len + A, \n",
    "        (A + B) / 2\n",
    "    ), (mi, ma)\n",
    "    "
   ]
  },
  {
   "cell_type": "code",
   "execution_count": 8,
   "metadata": {
    "colab": {
     "base_uri": "https://localhost:8080/"
    },
    "id": "NCB2pb8YWXOI",
    "outputId": "1837a3b8-df63-4357-e289-a070dd4ec1c0"
   },
   "outputs": [
    {
     "name": "stdout",
     "output_type": "stream",
     "text": [
      "Scaled data:\n",
      " [[ 9.77142857  0.        ]\n",
      " [10.          6.        ]\n",
      " [ 0.         10.        ]]\n"
     ]
    }
   ],
   "source": [
    "(X_norm, params) = mmscale(X, 0, 10)\n",
    "print('Scaled data:\\n',X_norm)"
   ]
  },
  {
   "cell_type": "code",
   "execution_count": 9,
   "metadata": {
    "id": "O2C8XageWXOK"
   },
   "outputs": [],
   "source": [
    "def mmscale_apply(X, params):\n",
    "    # apply min-max normalization according to the parameters in the array param\n",
    "    As, Bs = params\n",
    "    mi, ma = np.min(X, axis=0), np.max(X, axis=0)\n",
    "    dif = ma - mi\n",
    "    interval_len = Bs - As\n",
    "    return (X - mi[np.newaxis, :])/dif * interval_len + As"
   ]
  },
  {
   "cell_type": "code",
   "execution_count": 10,
   "metadata": {
    "colab": {
     "base_uri": "https://localhost:8080/"
    },
    "id": "JYql5s94WXOL",
    "outputId": "e588ddc7-8ade-4a89-80f8-f186daa6ad24"
   },
   "outputs": [
    {
     "name": "stdout",
     "output_type": "stream",
     "text": [
      "Y normalized:\n",
      " [[   0.27571062    2.        ]\n",
      " [   3.            3.44929961]\n",
      " [-123.            7.        ]]\n"
     ]
    }
   ],
   "source": [
    "Y = X + np.random.standard_normal(size=X.shape)\n",
    "\n",
    "Y_norm = mmscale_apply(Y, params)\n",
    "print(\"Y normalized:\\n\", Y_norm)"
   ]
  },
  {
   "cell_type": "code",
   "execution_count": 11,
   "metadata": {
    "colab": {
     "base_uri": "https://localhost:8080/"
    },
    "id": "ZIdi3GNzWXON",
    "outputId": "fa395397-e586-43c9-8509-4225d0d09e16"
   },
   "outputs": [],
   "source": [
    "def mmscale_inverse(X, params):\n",
    "    # compute transform inverse to the min-max scaling with parameters params\n",
    "    return mmscale_apply(X, params)\n",
    "\n",
    "Y_Norm_inversed = mmscale_inverse(Y_norm, params)"
   ]
  },
  {
   "cell_type": "code",
   "execution_count": 12,
   "metadata": {
    "colab": {
     "base_uri": "https://localhost:8080/"
    },
    "id": "nVAuuQw3Vbwh",
    "outputId": "58e2963e-8921-44e3-d0c9-75ad1aa2da7b"
   },
   "outputs": [
    {
     "name": "stdout",
     "output_type": "stream",
     "text": [
      "[[  -0.0184943     2.02171527]\n",
      " [   2.32822877    3.27530306]\n",
      " [-124.02013996    6.15145371]]\n",
      "[[ 0.96285313 -1.        ]\n",
      " [ 1.         -0.39289725]\n",
      " [-1.          1.        ]]\n",
      "[[  -0.0184943     2.02171527]\n",
      " [   2.32822877    3.27530306]\n",
      " [-124.02013996    6.15145371]]\n"
     ]
    }
   ],
   "source": [
    "Y = X + np.random.standard_normal(size=X.shape)\n",
    "print(Y)\n",
    "Y, params = mmscale(Y, -1, 1)\n",
    "print(Y)\n",
    "Y = mmscale_inverse(Y, params)\n",
    "print(Y)"
   ]
  },
  {
   "cell_type": "markdown",
   "metadata": {
    "id": "oD9lwrJkWXOO"
   },
   "source": [
    "Are there special cases that should be considered when imlementing/using the above functions?"
   ]
  },
  {
   "cell_type": "markdown",
   "metadata": {
    "id": "Hdq3mfrbWXOO"
   },
   "source": [
    "## Normalization by the standard deviation\n",
    "\n",
    "\n",
    "Standard deviation is the statistical function\n",
    "$$sd(X)= \\sigma_X=\\sqrt{\\frac{\\sum(X-\\bar{X})^2}{N-1}},$$\n",
    "where $\\bar{X}=\\frac{1}{N} \\cdot \\sum_{i=1}^{N} x_i$ is the mean value of $X$.\n",
    "\n",
    "This normalization transforms an input vector linearly in such a way that the mapped data will have mean 0 and deviation 1.\n",
    "\n",
    "Write a function `sdscale(x)` transforming two-dimensional array `x` linearly to an array with the mean 0 and the standard deviation 1 in each of its columns."
   ]
  },
  {
   "cell_type": "code",
   "execution_count": 13,
   "metadata": {
    "id": "OmiiNAKwWXOP"
   },
   "outputs": [],
   "source": [
    "def sdscale(X):\n",
    "    # linearly transform two-dimensional array X into an array where each column has mean 0 and standard deviation 1\n",
    "    # returns a tuple containing \n",
    "    #   * numpy array with normized columns\n",
    "    #   * numpy array with parameters of the transformation\n",
    "    mean = np.mean(X, axis=0)\n",
    "    std = np.std(X, axis=0)\n",
    "    return ((X - mean) / std, np.vstack((mean, std)))"
   ]
  },
  {
   "cell_type": "code",
   "execution_count": 14,
   "metadata": {
    "id": "MXQ3dTQTWXOR"
   },
   "outputs": [],
   "source": [
    "def sdscale_apply(X, params):\n",
    "    # apply normalization by the standard deviation according to the parameters in the array param\n",
    "    return (X-params[0])/params[1]"
   ]
  },
  {
   "cell_type": "code",
   "execution_count": 15,
   "metadata": {
    "id": "0CR35y4BWXOS"
   },
   "outputs": [],
   "source": [
    "def sdscale_inverse(X, params):\n",
    "    # apply inverse linear transformation on two-dimensional array X according to prameters params\n",
    "    return X*params[1] + params[0]"
   ]
  },
  {
   "cell_type": "code",
   "execution_count": 17,
   "metadata": {},
   "outputs": [
    {
     "name": "stdout",
     "output_type": "stream",
     "text": [
      "[[ 1 20]\n",
      " [ 3 70]\n",
      " [ 4 50]]\n",
      "\n",
      "[[-1.33630621 -1.29777137]\n",
      " [ 0.26726124  1.13554995]\n",
      " [ 1.06904497  0.16222142]]\n",
      "\n",
      "[[ 2.66666667 46.66666667]\n",
      " [ 1.24721913 20.54804668]]\n"
     ]
    }
   ],
   "source": [
    "X = np.array([[1, 20], [3, 70], [4, 50]])\n",
    "print(X)\n",
    "(stds, stdpar) = sdscale(X)\n",
    "print()\n",
    "print(stds)\n",
    "print()\n",
    "print(stdpar)"
   ]
  },
  {
   "cell_type": "code",
   "execution_count": 18,
   "metadata": {},
   "outputs": [
    {
     "name": "stdout",
     "output_type": "stream",
     "text": [
      "[[-1.33630621 -1.29777137]\n",
      " [ 0.26726124  1.13554995]\n",
      " [ 1.06904497  0.16222142]]\n",
      "[[ 1. 20.]\n",
      " [ 3. 70.]\n",
      " [ 4. 50.]]\n"
     ]
    }
   ],
   "source": [
    "print(sdscale_apply(X, stdpar))\n",
    "print(sdscale_inverse(stds, stdpar))"
   ]
  },
  {
   "cell_type": "markdown",
   "metadata": {
    "id": "7SzObA__WXOT"
   },
   "source": [
    "## Sigmoid normalization\n",
    "\n",
    "The sigmoid function (or logistic function), is the real function\n",
    "$$f(x)=\\frac{1}{1+e^{-\\lambda x}}$$ \n",
    "where the real constant $\\lambda$ is called *slope*.\n",
    "The domain of sigmoid is $(-\\infty,+\\infty)$ and its range is  $(0,1)$.\n",
    "\n",
    "We can plot the sigmoid function for $\\lambda=1$ e.g. in the following way"
   ]
  },
  {
   "cell_type": "code",
   "execution_count": 19,
   "metadata": {
    "id": "kcSR_JkFWXOT",
    "outputId": "b9011193-d135-46e7-a34c-6d0c0276b8ab"
   },
   "outputs": [
    {
     "data": {
      "text/plain": [
       "[<matplotlib.lines.Line2D at 0x2967b81b8b0>]"
      ]
     },
     "execution_count": 19,
     "metadata": {},
     "output_type": "execute_result"
    },
    {
     "data": {
      "image/png": "[encoded data removed]",
      "text/plain": [
       "<Figure size 640x480 with 1 Axes>"
      ]
     },
     "metadata": {},
     "output_type": "display_data"
    }
   ],
   "source": [
    "x = np.arange(-10,10,0.2)\n",
    "y = 1 / (1 + np.exp(-x))\n",
    "plt.plot(x,y)"
   ]
  },
  {
   "cell_type": "markdown",
   "metadata": {
    "id": "u58Kj00PWXOU"
   },
   "source": [
    "Write corresponding functions \n",
    "* `sigmscale(x,l)`, \n",
    "* `sigmscale_apply(Y,l)` and \n",
    "*`sigmscale_inverse(X)` \n",
    "that work with transforming entries of a two-dimensional array `X` by the sigmoid function with slope `l`."
   ]
  },
  {
   "cell_type": "markdown",
   "metadata": {},
   "source": [
    "### Inverse\n",
    "$$y=\\frac{1}{1+e^{-\\lambda x}}$$\n",
    "\n",
    "$$e^{-\\lambda x}=\\frac{1}{y-1}$$\n",
    "\n",
    "$$-\\lambda x = ln(\\frac{1}{y-1})$$\n",
    "\n",
    "$$x = \\frac{ln(\\frac{1}{y-1})}{-\\lambda}$$ "
   ]
  },
  {
   "cell_type": "markdown",
   "metadata": {
    "id": "wzTHXywKWXOU"
   },
   "source": [
    "Are there functions implementing the above normalization method implemented in `numpy` or `scikit-learn` libraries?"
   ]
  },
  {
   "cell_type": "code",
   "execution_count": 22,
   "metadata": {
    "id": "eJpgm0qnWXOV"
   },
   "outputs": [],
   "source": [
    "def sigmscale(x, l):\n",
    "    return 1/(1 + np.exp(-l * x)), l\n",
    "\n",
    "def sigmscale_apply(Y, l):\n",
    "    return 1/(1 + np.exp(-l * Y))\n",
    "\n",
    "def sigmscale_inverse(X, l):\n",
    "    return np.log(1/X - 1)/-l"
   ]
  },
  {
   "cell_type": "code",
   "execution_count": 24,
   "metadata": {},
   "outputs": [
    {
     "name": "stdout",
     "output_type": "stream",
     "text": [
      "[[ 1 20]\n",
      " [ 3 70]\n",
      " [ 4 50]]\n",
      "[[0.88079708 1.        ]\n",
      " [0.99752738 1.        ]\n",
      " [0.99966465 1.        ]]\n",
      "[[ 1. inf]\n",
      " [ 3. inf]\n",
      " [ 4. inf]]\n"
     ]
    },
    {
     "name": "stderr",
     "output_type": "stream",
     "text": [
      "C:\\Users\\Maty\\AppData\\Local\\Temp\\ipykernel_10748\\3415425604.py:8: RuntimeWarning: divide by zero encountered in log\n",
      "  return np.log(1/X - 1)/-l\n"
     ]
    }
   ],
   "source": [
    "print(X)\n",
    "print(Y:= sigmscale_apply(X, 2))\n",
    "print(sigmscale_inverse(Y, 2))"
   ]
  },
  {
   "cell_type": "code",
   "execution_count": 27,
   "metadata": {},
   "outputs": [
    {
     "name": "stdout",
     "output_type": "stream",
     "text": [
      "(array([[0.95257413, 0.99752738, 0.99987661],\n",
      "       [0.99999386, 0.99999969, 0.99999998]]), 3)\n",
      "[[1. 2. 3.]\n",
      " [4. 5. 6.]]\n"
     ]
    }
   ],
   "source": [
    "X = np.array([[1, 2, 3], [4, 5, 6]])\n",
    "l = 3\n",
    "print(Y:=sigmscale(X, l))\n",
    "print(sigmscale_inverse(Y[0], l))"
   ]
  },
  {
   "cell_type": "code",
   "execution_count": null,
   "metadata": {},
   "outputs": [],
   "source": []
  }
 ],
 "metadata": {
  "colab": {
   "collapsed_sections": [],
   "include_colab_link": true,
   "provenance": [],
   "toc_visible": true
  },
  "kernelspec": {
   "display_name": "Python 3.9.5 64-bit",
   "language": "python",
   "name": "python3"
  },
  "language_info": {
   "codemirror_mode": {
    "name": "ipython",
    "version": 3
   },
   "file_extension": ".py",
   "mimetype": "text/x-python",
   "name": "python",
   "nbconvert_exporter": "python",
   "pygments_lexer": "ipython3",
   "version": "3.9.5"
  },
  "vscode": {
   "interpreter": {
    "hash": "81794d4967e6c3204c66dcd87b604927b115b27c00565d3d43f05ba2f3a2cb0d"
   }
  }
 },
 "nbformat": 4,
 "nbformat_minor": 1
}
